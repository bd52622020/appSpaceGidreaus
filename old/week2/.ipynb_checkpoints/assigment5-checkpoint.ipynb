{
 "cells": [
  {
   "cell_type": "code",
   "execution_count": 1,
   "metadata": {},
   "outputs": [],
   "source": [
    "import pandas as pd\n",
    "from datetime import datetime\n",
    "import numpy as np\n",
    "pd.options.display.max_columns = None"
   ]
  },
  {
   "cell_type": "code",
   "execution_count": 2,
   "metadata": {},
   "outputs": [],
   "source": [
    "ratings_path = \"/home/giedrius/Documents/ml-100k/u.data\"\n",
    "movies_path = \"/home/giedrius/Documents/ml-100k/u.item\"\n",
    "user_path = \"/home/giedrius/Documents/ml-100k/u.user\"\n",
    "\n",
    "ratings_df = pd.read_csv(ratings_path, sep = '\\t', header = None)\n",
    "movies_df = pd.read_csv(movies_path, sep = \"|\", header = None, encoding =\"iso-8859-1\")\n",
    "user_df = pd.read_csv(user_path, sep = '|', header = None)\n",
    "\n",
    "ratings_df.columns = [\"user id\", \"item id\", \"rating\", \"timestamp\"]\n",
    "user_df.columns = [\"user id\", \"age\",\"gender\", \"occupation\", \"zip code\"]\n",
    "movies_df.columns =  ['movie id', 'movie title', 'release date', 'video release date', 'IMDb URL', 'unknown',\n",
    " 'Action', 'Adventure', 'Animation', \"Children's\", 'Comedy', 'Crime', 'Documentary', 'Drama', 'Fantasy', 'Film-Noir',\n",
    " 'Horror', 'Musical', 'Mystery', 'Romance', 'Sci-Fi', 'Thriller', 'War', 'Western']\n",
    "\n",
    "\n",
    "movies_df['release date'] = movies_df['release date'].apply(lambda x: datetime.strptime(x,'%d-%b-%Y') if isinstance(x, str) else x)\n",
    "ratings_df[\"date\"]= ratings_df[\"timestamp\"].apply(lambda x: datetime.fromtimestamp(x))\n",
    "\n"
   ]
  },
  {
   "cell_type": "markdown",
   "metadata": {},
   "source": [
    "### 1) and 2)Print a list of the 10 movies that received the most number of ratings, sorted by the number of ratings. "
   ]
  },
  {
   "cell_type": "code",
   "execution_count": 3,
   "metadata": {},
   "outputs": [
    {
     "name": "stdout",
     "output_type": "stream",
     "text": [
      "Star Wars (1977)\n",
      "Contact (1997)\n",
      "Fargo (1996)\n",
      "Return of the Jedi (1983)\n",
      "Liar Liar (1997)\n",
      "English Patient, The (1996)\n",
      "Scream (1996)\n",
      "Toy Story (1995)\n",
      "Air Force One (1997)\n",
      "Independence Day (ID4) (1996)\n"
     ]
    }
   ],
   "source": [
    "movies_ids = ratings_df[\"item id\"].value_counts().index[:10]\n",
    "for i in movies_ids:\n",
    "    print(movies_df[movies_df[\"movie id\"] == i][\"movie title\"].values[0])"
   ]
  },
  {
   "cell_type": "markdown",
   "metadata": {},
   "source": [
    "### 3) Print a list of the number of ratings received by each genre. "
   ]
  },
  {
   "cell_type": "code",
   "execution_count": null,
   "metadata": {},
   "outputs": [],
   "source": [
    "df = pd.merge(ratings_df, movies_df, left_on=\"item id\", right_on=\"movie id\").reindex()\n",
    "df[df.columns[9:]].sum()"
   ]
  },
  {
   "cell_type": "markdown",
   "metadata": {},
   "source": [
    "### 4) Print the oldest movie with a “5” rating. "
   ]
  },
  {
   "cell_type": "code",
   "execution_count": null,
   "metadata": {},
   "outputs": [],
   "source": [
    "movies_ids_5 = set(ratings_df[ratings_df[\"rating\"] == 5][\"item id\"].values)\n",
    "five_star_movies = movies_df[movies_df['movie id'].isin(movies_ids_5)]\n",
    "five_star_movies.sort_values(\"release date\",ascending=True)[\"movie title\"].values[0]"
   ]
  },
  {
   "cell_type": "markdown",
   "metadata": {},
   "source": [
    "### 5) Print a list of the genre of the top 10 most rated movies. "
   ]
  },
  {
   "cell_type": "code",
   "execution_count": null,
   "metadata": {},
   "outputs": [],
   "source": [
    "movies_ids = ratings_df[\"item id\"].value_counts().index[:10]\n",
    "\n",
    "for i in movies_ids:\n",
    "    movie_title = movies_df[movies_df[\"movie id\"] == i][\"movie title\"].values[0]\n",
    "    genres_row = movies_df[movies_df[\"movie id\"] == i].iloc[:,5:]\n",
    "    genres_list = genres_row.columns[(genres_row == 1).values[0]]                \n",
    "    print(\"{:30} genres : {}\".format(movie_title, \", \".join(genres_list)))"
   ]
  },
  {
   "cell_type": "markdown",
   "metadata": {},
   "source": [
    "### 6) Print the title of the movie that was rated the most by students "
   ]
  },
  {
   "cell_type": "code",
   "execution_count": null,
   "metadata": {},
   "outputs": [],
   "source": [
    "student_user_ids = user_df[user_df[\"occupation\"] == \"student\"][\"user id\"]\n",
    "student_ratings = ratings_df[ratings_df[\"user id\"].isin(student_user_ids)]\n",
    "stud_movie = student_ratings[\"item id\"].value_counts().index[0]\n",
    "movies_df[movies_df['movie id'] == stud_movie][\"movie title\"].values[0]"
   ]
  },
  {
   "cell_type": "markdown",
   "metadata": {},
   "source": [
    "### 7) Print the list of movies that received the highest number of “5” rating "
   ]
  },
  {
   "cell_type": "code",
   "execution_count": null,
   "metadata": {},
   "outputs": [],
   "source": [
    "movie_ids = df[df[\"rating\"] == 5][\"item id\"].value_counts().index\n",
    "for i in movie_ids[:10]:\n",
    "    print(movies_df[movies_df[\"movie id\"] == i][\"movie title\"].values[0])"
   ]
  },
  {
   "cell_type": "markdown",
   "metadata": {},
   "source": [
    "### 8) Print the list of zip codes corresponding to the highest number of users that rated movies. "
   ]
  },
  {
   "cell_type": "code",
   "execution_count": null,
   "metadata": {},
   "outputs": [],
   "source": [
    "user_ids = set(ratings_df[\"user id\"])\n",
    "rated_users = user_df[user_df['user id'].isin(user_ids)] #all users have rated at least one movie\n",
    "grouped = rated_users.groupby(\"zip code\")[\"user id\"].count()\n",
    "grouped.nlargest(10)"
   ]
  },
  {
   "cell_type": "markdown",
   "metadata": {},
   "source": [
    "### 9) Find the most rated movie by users in the age group 20 to 25. "
   ]
  },
  {
   "cell_type": "code",
   "execution_count": null,
   "metadata": {},
   "outputs": [],
   "source": [
    "user_ids = user_df[user_df[\"age\"].between(20, 25)][\"user id\"]\n",
    "movie_id = ratings_df[ratings_df[\"user id\"].isin(user_ids)][\"item id\"].value_counts().index[0]\n",
    "movies_df[movies_df[\"movie id\"] == movie_id][\"movie title\"].values[0]"
   ]
  },
  {
   "cell_type": "markdown",
   "metadata": {},
   "source": [
    "### 10) Print the list of movies that were rate after year 1960. "
   ]
  },
  {
   "cell_type": "code",
   "execution_count": null,
   "metadata": {},
   "outputs": [],
   "source": [
    "movie_ids = ratings_df[ratings_df[\"date\"] > datetime(1960,12,31)][\"item id\"] #all movies rated in 1997-1978\n",
    "movies_df[movies_df[\"movie id\"].isin(movie_ids)][\"movie title\"][:10]"
   ]
  }
 ],
 "metadata": {
  "kernelspec": {
   "display_name": "Python 3",
   "language": "python",
   "name": "python3"
  },
  "language_info": {
   "codemirror_mode": {
    "name": "ipython",
    "version": 3
   },
   "file_extension": ".py",
   "mimetype": "text/x-python",
   "name": "python",
   "nbconvert_exporter": "python",
   "pygments_lexer": "ipython3",
   "version": "3.6.9"
  }
 },
 "nbformat": 4,
 "nbformat_minor": 2
}
