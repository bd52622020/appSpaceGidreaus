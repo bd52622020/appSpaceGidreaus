{
 "cells": [
  {
   "cell_type": "code",
   "execution_count": 1,
   "metadata": {},
   "outputs": [
    {
     "name": "stderr",
     "output_type": "stream",
     "text": [
      "c:\\users\\giedrius\\appdata\\local\\programs\\python\\python35\\lib\\site-packages\\gensim\\utils.py:865: UserWarning: detected Windows; aliasing chunkize to chunkize_serial\n",
      "  warnings.warn(\"detected Windows; aliasing chunkize to chunkize_serial\")\n",
      "c:\\users\\giedrius\\appdata\\local\\programs\\python\\python35\\lib\\site-packages\\h5py\\__init__.py:36: FutureWarning: Conversion of the second argument of issubdtype from `float` to `np.floating` is deprecated. In future, it will be treated as `np.float64 == np.dtype(float).type`.\n",
      "  from ._conv import register_converters as _register_converters\n",
      "Using TensorFlow backend.\n"
     ]
    }
   ],
   "source": [
    "import json, os, re, csv, datetime, gzip\n",
    "import pandas as pd\n",
    "from nltk.corpus import stopwords\n",
    "from nltk.stem import WordNetLemmatizer\n",
    "from sklearn.feature_extraction.text import CountVectorizer\n",
    "from nltk.probability import FreqDist\n",
    "import pickle\n",
    "import gensim\n",
    "import pyLDAvis\n",
    "import pyLDAvis.gensim\n",
    "\n",
    "from gensim.models.ldamulticore import LdaMulticore\n",
    "\n",
    "\n",
    "%matplotlib inline\n",
    "import matplotlib.pyplot as plt\n",
    "plt.style.use('seaborn-whitegrid')\n",
    "\n",
    "import warnings\n",
    "warnings.filterwarnings('ignore')\n",
    "\n",
    "\n",
    "topics_path = os.path.join('..', 'topics', 'topic.pickle')\n",
    "data_path = os.path.join('..', 'data')\n",
    "models_path = os.path.join('..', 'models')\n",
    "project_data_path = os.path.join('..', 'project_data')"
   ]
  },
  {
   "cell_type": "markdown",
   "metadata": {},
   "source": [
    "# Reading https://bitcointalk.org data"
   ]
  },
  {
   "cell_type": "code",
   "execution_count": 4,
   "metadata": {},
   "outputs": [
    {
     "name": "stdout",
     "output_type": "stream",
     "text": [
      "Wall time: 2.2 s\n"
     ]
    }
   ],
   "source": [
    "%%time\n",
    "#fileNames = [\"Forum/\" + pos_json for pos_json in os.listdir(\"Forum/\") if pos_json.endswith('.json')]\n",
    "#fileNames = 'Forum/bitcointalk_88.json'\n",
    "fileNames = 'bitcoin.json'\n",
    "with open(fileNames ,encoding=\"utf-8\") as json_data:\n",
    "    forum = json.load(json_data)['posts']"
   ]
  },
  {
   "cell_type": "code",
   "execution_count": 5,
   "metadata": {},
   "outputs": [
    {
     "name": "stdout",
     "output_type": "stream",
     "text": [
      "Wall time: 7.05 s\n"
     ]
    }
   ],
   "source": [
    "%%time\n",
    "if 1==1:\n",
    "    comments = [(datetime.datetime.strptime(rep[\"date\"][:10], '%Y-%m-%d').date(),  rep[\"content\"], dic[\"content\"])\n",
    "               for dic in forum  if 'replies' in dic \n",
    "               for rep in dic['replies'] if rep[\"content\"] != []]\n",
    "   \n",
    "    \n",
    "del forum"
   ]
  },
  {
   "cell_type": "code",
   "execution_count": 20,
   "metadata": {},
   "outputs": [
    {
     "data": {
      "text/plain": [
       "627122"
      ]
     },
     "execution_count": 20,
     "metadata": {},
     "output_type": "execute_result"
    }
   ],
   "source": [
    "len(comments)"
   ]
  },
  {
   "cell_type": "code",
   "execution_count": 3,
   "metadata": {
    "collapsed": true
   },
   "outputs": [],
   "source": [
    "# comments = []\n",
    "# x_date = datetime.date(2011, 1, 1)\n",
    "# date = datetime.date(2011, 1, 1)\n",
    "# for dic in forum:\n",
    "#     if dic['replies'] != []:\n",
    "#         x_date = datetime.datetime.strptime(dic[\"date\"][:10], '%Y-%m-%d').date()\n",
    "#         com = dic[\"topic\"] + dic[\"content\"]\n",
    "#         for replies in dic['replies']:\n",
    "#             date = datetime.datetime.strptime(replies[\"date\"][:10], '%Y-%m-%d').date()\n",
    "#             if date != x_date:\n",
    "#                 comments.append((x_date, com))\n",
    "#                 com = '' \n",
    "#             else:\n",
    "#                  com += replies[\"content\"]\n",
    "#             x_date = date \n",
    "            \n",
    "# del forum        "
   ]
  },
  {
   "cell_type": "code",
   "execution_count": 6,
   "metadata": {},
   "outputs": [
    {
     "name": "stdout",
     "output_type": "stream",
     "text": [
      "Wall time: 1min 14s\n"
     ]
    }
   ],
   "source": [
    "%%time\n",
    "#read pickle files\n",
    "df = pd.DataFrame()\n",
    "for file in os.listdir(data_path):\n",
    "    help_df = pd.read_pickle(os.path.join(data_path, str(file)))\n",
    "    help_df[\"Date\"] = datetime.datetime.strptime(file, '%Y-%m-%d').date()\n",
    "    df = pd.concat([df, help_df], ignore_index=True)\n",
    "\n",
    "topics = pd.read_pickle(topics_path)"
   ]
  },
  {
   "cell_type": "code",
   "execution_count": 7,
   "metadata": {},
   "outputs": [
    {
     "name": "stdout",
     "output_type": "stream",
     "text": [
      "Wall time: 1min 18s\n"
     ]
    }
   ],
   "source": [
    "%%time\n",
    "for i in range(len(topics)):\n",
    "    index = df[df[\"Topic No.\"] == i].index[0]\n",
    "    df.at[index, \"Comment\"] = topics.at[i,\"Topic\"] + topics.at[i,\"Content\"] + df.at[index, \"Comment\"]"
   ]
  },
  {
   "cell_type": "code",
   "execution_count": 8,
   "metadata": {},
   "outputs": [],
   "source": [
    "df = df[(df['Date'] >= datetime.date(2014,1,1) )]"
   ]
  },
  {
   "cell_type": "code",
   "execution_count": 9,
   "metadata": {},
   "outputs": [],
   "source": [
    "df = df[(df['Date'] < datetime.date(2019,1,1) )]"
   ]
  },
  {
   "cell_type": "code",
   "execution_count": 8,
   "metadata": {},
   "outputs": [
    {
     "data": {
      "text/html": [
       "<div>\n",
       "<style>\n",
       "    .dataframe thead tr:only-child th {\n",
       "        text-align: right;\n",
       "    }\n",
       "\n",
       "    .dataframe thead th {\n",
       "        text-align: left;\n",
       "    }\n",
       "\n",
       "    .dataframe tbody tr th {\n",
       "        vertical-align: top;\n",
       "    }\n",
       "</style>\n",
       "<table border=\"1\" class=\"dataframe\">\n",
       "  <thead>\n",
       "    <tr style=\"text-align: right;\">\n",
       "      <th></th>\n",
       "      <th>Topic No.</th>\n",
       "      <th>Comment</th>\n",
       "      <th>Date</th>\n",
       "    </tr>\n",
       "  </thead>\n",
       "  <tbody>\n",
       "    <tr>\n",
       "      <th>1579032</th>\n",
       "      <td>14045</td>\n",
       "      <td>On average now Miner dismissed because of inco...</td>\n",
       "      <td>2018-12-31</td>\n",
       "    </tr>\n",
       "    <tr>\n",
       "      <th>1579033</th>\n",
       "      <td>14045</td>\n",
       "      <td>For me, I don't think that a lots of miner's w...</td>\n",
       "      <td>2018-12-31</td>\n",
       "    </tr>\n",
       "    <tr>\n",
       "      <th>1579034</th>\n",
       "      <td>14045</td>\n",
       "      <td>For me, I don't think that a lots of miner's w...</td>\n",
       "      <td>2018-12-31</td>\n",
       "    </tr>\n",
       "    <tr>\n",
       "      <th>1579035</th>\n",
       "      <td>14045</td>\n",
       "      <td>If the existing miners stop producing bitcoin,...</td>\n",
       "      <td>2018-12-31</td>\n",
       "    </tr>\n",
       "    <tr>\n",
       "      <th>1579036</th>\n",
       "      <td>14045</td>\n",
       "      <td>there are 4 Million bitcoin that ready to mine...</td>\n",
       "      <td>2018-12-31</td>\n",
       "    </tr>\n",
       "  </tbody>\n",
       "</table>\n",
       "</div>"
      ],
      "text/plain": [
       "         Topic No.                                            Comment  \\\n",
       "1579032      14045  On average now Miner dismissed because of inco...   \n",
       "1579033      14045  For me, I don't think that a lots of miner's w...   \n",
       "1579034      14045  For me, I don't think that a lots of miner's w...   \n",
       "1579035      14045  If the existing miners stop producing bitcoin,...   \n",
       "1579036      14045  there are 4 Million bitcoin that ready to mine...   \n",
       "\n",
       "               Date  \n",
       "1579032  2018-12-31  \n",
       "1579033  2018-12-31  \n",
       "1579034  2018-12-31  \n",
       "1579035  2018-12-31  \n",
       "1579036  2018-12-31  "
      ]
     },
     "execution_count": 8,
     "metadata": {},
     "output_type": "execute_result"
    }
   ],
   "source": [
    "df[-5:]"
   ]
  },
  {
   "cell_type": "code",
   "execution_count": 10,
   "metadata": {},
   "outputs": [],
   "source": [
    "comments = df.groupby([\"Date\", \"Topic No.\"])[\"Comment\"].apply(lambda x: ''.join(x))"
   ]
  },
  {
   "cell_type": "code",
   "execution_count": 18,
   "metadata": {},
   "outputs": [
    {
     "name": "stdout",
     "output_type": "stream",
     "text": [
      "Wall time: 10.7 s\n"
     ]
    }
   ],
   "source": [
    "# %%time\n",
    "\n",
    "# comments = []\n",
    "# for i in range(len(data)):\n",
    "#     comments.append((data.index[i][0], data.index[i][1] + data.index[i][2] + data[i]))"
   ]
  },
  {
   "cell_type": "markdown",
   "metadata": {},
   "source": [
    "## Preprocessing data"
   ]
  },
  {
   "cell_type": "code",
   "execution_count": 10,
   "metadata": {},
   "outputs": [],
   "source": [
    "stop_words = stopwords.words(\"english\")\n",
    "lemmatizer = WordNetLemmatizer()\n",
    "def preprocessText(text):\n",
    "    text = text.lower()\n",
    "    text = re.sub('http[s]?://(?:[a-zA-Z]|[0-9]|[$-_@.&+]|[!*\\(\\),]|(?:%[0-9a-fA-F][0-9a-fA-F]))+', 'web_url', text)\n",
    "    text = re.sub('www.(?:[a-zA-Z]|[0-9]|[$-_@.&+]|[!*\\(\\),]|(?:%[0-9a-fA-F][0-9a-fA-F]))+', 'web_url', text)\n",
    "    text = re.sub(r\"\\'s\", \" \", text)\n",
    "    text = re.sub(r\" u \", \" \", text)\n",
    "    text = re.sub(r\"\\'ve\", \" have \", text)\n",
    "    text = re.sub(r\"can't\", \"cannot \", text)\n",
    "    text = re.sub(r\"n't\", \" not \", text)\n",
    "    text = re.sub(r\"i'm\", \"i am \", text)\n",
    "    text = re.sub(r\"\\'re\", \" are \", text)\n",
    "    text = re.sub(r\"\\'d\", \" would \", text)\n",
    "    text = re.sub(r\"\\'ll\", \" will \", text)\n",
    "    text = re.sub(\"[^a-zA-Z]\", \" \", text)\n",
    "    text = re.sub(r\" e g \", \" eg \", text)\n",
    "    text = re.sub(r\" b g \", \" bg \", text)\n",
    "    text = re.sub(r\"e mail\", \"email\", text)\n",
    "    words = text.split() \n",
    "    meaningful_words = [lemmatizer.lemmatize(w) for w in words if not w in stop_words and len(w) > 1]\n",
    "    return meaningful_words\n",
    "    #return ' '.join(meaningful_words)"
   ]
  },
  {
   "cell_type": "code",
   "execution_count": 26,
   "metadata": {},
   "outputs": [],
   "source": [
    "lemmatizer = WordNetLemmatizer()"
   ]
  },
  {
   "cell_type": "code",
   "execution_count": 11,
   "metadata": {},
   "outputs": [
    {
     "name": "stdout",
     "output_type": "stream",
     "text": [
      "11:36:52.404542 0\n",
      "11:37:45.215248 20000\n",
      "11:39:26.184873 40000\n",
      "11:41:03.012679 60000\n",
      "11:43:03.303690 80000\n",
      "11:44:51.761785 100000\n",
      "11:46:16.319053 120000\n",
      "11:47:41.843635 140000\n",
      "Wall time: 11min 6s\n"
     ]
    }
   ],
   "source": [
    "%%time\n",
    "# 11 min\n",
    "tokens = []\n",
    "for i in range(0,len(comments)):\n",
    "    if i % 20000 == 0:\n",
    "        print(datetime.datetime.now().time(),i)\n",
    "    tokens.append(preprocessText(comments[i]))"
   ]
  },
  {
   "cell_type": "code",
   "execution_count": 12,
   "metadata": {},
   "outputs": [],
   "source": [
    "from gensim.models import Phrases"
   ]
  },
  {
   "cell_type": "code",
   "execution_count": 13,
   "metadata": {},
   "outputs": [],
   "source": [
    "bigram_model = Phrases(tokens)\n",
    "#bigram_tokens = bigram_model[tokens]"
   ]
  },
  {
   "cell_type": "code",
   "execution_count": 14,
   "metadata": {},
   "outputs": [],
   "source": [
    "%%time\n",
    "bigram_tokens = []\n",
    "for token in tokens:\n",
    "    bigram_tokens.append(bigram_model[token])"
   ]
  },
  {
   "cell_type": "code",
   "execution_count": 15,
   "metadata": {},
   "outputs": [],
   "source": [
    "del tokens"
   ]
  },
  {
   "cell_type": "code",
   "execution_count": 2,
   "metadata": {},
   "outputs": [
    {
     "name": "stdout",
     "output_type": "stream",
     "text": [
      "Wall time: 13.7 s\n"
     ]
    }
   ],
   "source": [
    "%%time\n",
    "import gzip\n",
    "if 1==0:\n",
    "    with gzip.open(os.path.join(project_data_path, 'bigram_tokens'), 'wb') as f:\n",
    "        pickle.dump(bigram_tokens, f, pickle.HIGHEST_PROTOCOL)\n",
    "else:\n",
    "    with gzip.open(os.path.join(project_data_path, 'bigram_tokens'), 'rb') as f:\n",
    "        bigram_tokens = pickle.load(f)\n"
   ]
  },
  {
   "cell_type": "markdown",
   "metadata": {},
   "source": [
    "##  Creating dictionary and corpus"
   ]
  },
  {
   "cell_type": "code",
   "execution_count": 3,
   "metadata": {},
   "outputs": [
    {
     "name": "stdout",
     "output_type": "stream",
     "text": [
      "Wall time: 20.1 ms\n"
     ]
    }
   ],
   "source": [
    "%%time\n",
    "from gensim import corpora, models\n",
    "if 1==0:\n",
    "    dictionary = corpora.Dictionary(bigram_tokens)\n",
    "    dictionary.filter_extremes(no_below=20, no_above=0.5)\n",
    "    dictionary.save(os.path.join(project_data_path, 'dictionary.dict'))\n",
    "else:\n",
    "    dictionary = corpora.Dictionary.load(os.path.join(project_data_path, 'dictionary.dict'))"
   ]
  },
  {
   "cell_type": "code",
   "execution_count": 48,
   "metadata": {},
   "outputs": [
    {
     "name": "stdout",
     "output_type": "stream",
     "text": [
      "Wall time: 42.9 s\n"
     ]
    }
   ],
   "source": [
    "%%time\n",
    "corpus = []\n",
    "for i in range(0,len(bigram_tokens)):\n",
    "    corpus.append(dictionary.doc2bow(bigram_tokens[i]))"
   ]
  },
  {
   "cell_type": "code",
   "execution_count": 2,
   "metadata": {},
   "outputs": [],
   "source": [
    "if 1==0:\n",
    "    with gzip.open(os.path.join(project_data_path, 'corpus'), 'wb') as f:\n",
    "        pickle.dump(corpus, f, pickle.HIGHEST_PROTOCOL)\n",
    "else:\n",
    "    with gzip.open(os.path.join(project_data_path, 'corpus'), 'rb') as f:\n",
    "        corpus = pickle.load(f)"
   ]
  },
  {
   "cell_type": "markdown",
   "metadata": {},
   "source": [
    "## Create LDA model"
   ]
  },
  {
   "cell_type": "code",
   "execution_count": 15,
   "metadata": {},
   "outputs": [],
   "source": [
    "import gensim\n",
    "import pyLDAvis\n",
    "import pyLDAvis.gensim\n",
    "import pickle"
   ]
  },
  {
   "cell_type": "code",
   "execution_count": 50,
   "metadata": {},
   "outputs": [
    {
     "name": "stdout",
     "output_type": "stream",
     "text": [
      "2018-03-18 00:06:48.753216\n",
      "Wall time: 15h 19min 43s\n"
     ]
    }
   ],
   "source": [
    "%%time\n",
    "#With not lemmatizated corpus LDA(topics=40, passes=2) => Wall time: 9h 16min 19s\n",
    "#Lemmatizated corpus LDA(topics=30, passes=5) => Wall time: 16h 53min 17s  => filename: lda\n",
    "#Lemmatizated corpus (comments merged by topic and date) LDA(topics=40, passes=10) => Wall time: 8h 58min 27s  => filename: lda2\n",
    "#Lemmatizated corpus (comments merged by topic and date) LDA(topics=35, passes=30) => Wall time: 4h 48min 23s  => filename: lda3\n",
    "#Lemmatizated corpus (comments merged by topic and date) LDA(topics=50, passes=50) => Wall time: 5h 38min 36s  => filename: lda_biigram\n",
    "#Lemmatizated corpus (comments merged by topic and date) LDA(topics=50, passes=50) => Wall time:  (with break) => filename: lda_biigram2\n",
    "\n",
    "print(datetime.datetime.now())\n",
    "lda = gensim.models.ldamodel.LdaModel(corpus, num_topics= 50, id2word = dictionary, passes= 50)\n",
    "lda.save(fname=\"lda_bigram2\")"
   ]
  },
  {
   "cell_type": "code",
   "execution_count": 51,
   "metadata": {},
   "outputs": [
    {
     "name": "stdout",
     "output_type": "stream",
     "text": [
      "Wall time: 5min 51s\n"
     ]
    }
   ],
   "source": [
    "%%time\n",
    "\n",
    "# this is a bit time consuming - make the if statement True\n",
    "# if you want to execute data prep yourself.\n",
    "if 1 == 1:\n",
    "\n",
    "    LDAvis_prepared = pyLDAvis.gensim.prepare(lda, corpus,  dictionary)\n",
    "\n",
    "    with open('ldavis_bigram2', 'wb') as f:\n",
    "        pickle.dump(LDAvis_prepared, f)"
   ]
  },
  {
   "cell_type": "markdown",
   "metadata": {},
   "source": [
    "### Words distribution"
   ]
  },
  {
   "cell_type": "code",
   "execution_count": 68,
   "metadata": {},
   "outputs": [],
   "source": [
    "import spacy\n",
    "from collections import Counter"
   ]
  },
  {
   "cell_type": "code",
   "execution_count": 72,
   "metadata": {},
   "outputs": [],
   "source": [
    "tok = [item for sublist in bigram_tokens for item in sublist]"
   ]
  },
  {
   "cell_type": "code",
   "execution_count": 73,
   "metadata": {},
   "outputs": [],
   "source": [
    "word_freq = Counter(tok)"
   ]
  },
  {
   "cell_type": "code",
   "execution_count": 75,
   "metadata": {},
   "outputs": [],
   "source": [
    "fr = word_freq.most_common(2000)"
   ]
  },
  {
   "cell_type": "code",
   "execution_count": null,
   "metadata": {},
   "outputs": [],
   "source": [
    "for a in fr:\n",
    "    if a[0].find(\"_\") is not -1:\n",
    "        print(a[1])"
   ]
  },
  {
   "cell_type": "code",
   "execution_count": 117,
   "metadata": {},
   "outputs": [
    {
     "data": {
      "text/plain": [
       "[('bitcoin', 2740464),\n",
       " ('people', 634516),\n",
       " ('would', 559720),\n",
       " ('think', 513703),\n",
       " ('money', 445535),\n",
       " ('like', 431142),\n",
       " ('price', 414306),\n",
       " ('time', 397051),\n",
       " ('one', 374072),\n",
       " ('btc', 356803),\n",
       " ('use', 352407),\n",
       " ('know', 333494),\n",
       " ('get', 327326),\n",
       " ('bitcoins', 325238),\n",
       " ('make', 320702),\n",
       " ('also', 304134),\n",
       " ('good', 302422),\n",
       " ('currency', 295282),\n",
       " ('transaction', 284219),\n",
       " ('need', 278237),\n",
       " ('way', 267530),\n",
       " ('coin', 264517),\n",
       " ('even', 264373),\n",
       " ('many', 259040),\n",
       " ('thing', 247973),\n",
       " ('want', 246759),\n",
       " ('still', 239900),\n",
       " ('wallet', 221442),\n",
       " ('buy', 220653),\n",
       " ('really', 218653),\n",
       " ('see', 212382),\n",
       " ('much', 207294),\n",
       " ('country', 205523),\n",
       " ('year', 204101),\n",
       " ('could', 202730),\n",
       " ('future', 198739),\n",
       " ('bank', 186736),\n",
       " ('lot', 182585),\n",
       " ('go', 181105),\n",
       " ('world', 178206),\n",
       " ('using', 173370),\n",
       " ('value', 169411),\n",
       " ('fee', 167044),\n",
       " ('going', 159065),\n",
       " ('well', 156277),\n",
       " ('day', 155753),\n",
       " ('web', 154378),\n",
       " ('block', 154288),\n",
       " ('new', 152420),\n",
       " ('right', 150924),\n",
       " ('market', 143170),\n",
       " ('say', 142040),\n",
       " ('long', 142001),\n",
       " ('take', 141991),\n",
       " ('government', 141571),\n",
       " ('url', 140848),\n",
       " ('something', 137033),\n",
       " ('cannot', 134809),\n",
       " ('exchange', 133467),\n",
       " ('better', 133103),\n",
       " ('used', 132788),\n",
       " ('first', 131220),\n",
       " ('investment', 130843),\n",
       " ('user', 130609),\n",
       " ('work', 128803),\n",
       " ('u', 128108),\n",
       " ('earn', 127689),\n",
       " ('invest', 126700),\n",
       " ('sure', 126298),\n",
       " ('profit', 123121),\n",
       " ('already', 121764),\n",
       " ('crypto', 120538),\n",
       " ('never', 118760),\n",
       " ('big', 118560),\n",
       " ('yes', 118172),\n",
       " ('maybe', 117550),\n",
       " ('fiat', 116646),\n",
       " ('payment', 116359),\n",
       " ('mean', 116115),\n",
       " ('keep', 112374),\n",
       " ('may', 112323),\n",
       " ('since', 112113),\n",
       " ('high', 109170),\n",
       " ('problem', 108876),\n",
       " ('always', 108728),\n",
       " ('trading', 108727),\n",
       " ('give', 108239),\n",
       " ('blockchain', 106899),\n",
       " ('mining', 106375),\n",
       " ('amount', 106366),\n",
       " ('sell', 104146),\n",
       " ('best', 103843),\n",
       " ('every', 103033),\n",
       " ('system', 101418),\n",
       " ('pay', 100905),\n",
       " ('believe', 99749),\n",
       " ('reason', 99684),\n",
       " ('without', 98678),\n",
       " ('start', 98543),\n",
       " ('increase', 98187),\n",
       " ('real', 97714),\n",
       " ('miner', 97252),\n",
       " ('happen', 97048),\n",
       " ('come', 96205),\n",
       " ('back', 95451),\n",
       " ('online', 93408),\n",
       " ('change', 92406),\n",
       " ('actually', 92112),\n",
       " ('help', 90225),\n",
       " ('hard', 89581),\n",
       " ('might', 88251),\n",
       " ('idea', 87860),\n",
       " ('network', 87548),\n",
       " ('satoshi', 86736),\n",
       " ('point', 86495),\n",
       " ('another', 85721),\n",
       " ('possible', 84782),\n",
       " ('someone', 84592),\n",
       " ('life', 84074),\n",
       " ('internet', 84060),\n",
       " ('everyone', 83494),\n",
       " ('address', 82739),\n",
       " ('become', 82248),\n",
       " ('business', 81671),\n",
       " ('hold', 80622),\n",
       " ('let', 79963),\n",
       " ('different', 78969),\n",
       " ('enough', 78430),\n",
       " ('anything', 77999),\n",
       " ('look', 77997),\n",
       " ('cash', 77242),\n",
       " ('great', 76216),\n",
       " ('cryptocurrency', 76132),\n",
       " ('try', 75994),\n",
       " ('around', 75692),\n",
       " ('site', 74585),\n",
       " ('gold', 74373),\n",
       " ('risk', 73550),\n",
       " ('understand', 73342),\n",
       " ('find', 73171),\n",
       " ('service', 72725),\n",
       " ('technology', 72356),\n",
       " ('nothing', 71694),\n",
       " ('end', 71437),\n",
       " ('number', 71045),\n",
       " ('news', 70719),\n",
       " ('able', 70393),\n",
       " ('made', 70288),\n",
       " ('accept', 69566),\n",
       " ('key', 69295),\n",
       " ('hope', 68672),\n",
       " ('account', 68222),\n",
       " ('though', 67703),\n",
       " ('said', 67568),\n",
       " ('dont', 67229),\n",
       " ('month', 66890),\n",
       " ('term', 66882),\n",
       " ('person', 66008),\n",
       " ('getting', 65767),\n",
       " ('fork', 65710),\n",
       " ('easy', 65696),\n",
       " ('place', 65182),\n",
       " ('bad', 65102),\n",
       " ('probably', 65071),\n",
       " ('got', 64865),\n",
       " ('fact', 64328),\n",
       " ('digital', 63897),\n",
       " ('node', 63888),\n",
       " ('buying', 63633),\n",
       " ('small', 63390),\n",
       " ('anyone', 63271),\n",
       " ('agree', 63029),\n",
       " ('case', 62872),\n",
       " ('company', 62713),\n",
       " ('guy', 61686),\n",
       " ('making', 61266),\n",
       " ('le', 60888),\n",
       " ('free', 60486),\n",
       " ('course', 60245),\n",
       " ('control', 59951),\n",
       " ('must', 59787),\n",
       " ('question', 59593),\n",
       " ('true', 59192),\n",
       " ('dollar', 59137),\n",
       " ('next', 58960),\n",
       " ('part', 58751),\n",
       " ('spend', 58741),\n",
       " ('yet', 58209),\n",
       " ('job', 57915),\n",
       " ('post', 57830),\n",
       " ('investing', 57488),\n",
       " ('last', 57484),\n",
       " ('opinion', 57159),\n",
       " ('ever', 56708),\n",
       " ('store', 56702),\n",
       " ('wait', 56625),\n",
       " ('kind', 56416),\n",
       " ('forum', 56293),\n",
       " ('core', 56290),\n",
       " ('today', 55930),\n",
       " ('bit', 55663),\n",
       " ('put', 55252),\n",
       " ('support', 55030),\n",
       " ('far', 54514),\n",
       " ('china', 54492),\n",
       " ('everything', 53936),\n",
       " ('low', 53923),\n",
       " ('read', 53543),\n",
       " ('friend', 53410),\n",
       " ('community', 53175),\n",
       " ('little', 53156),\n",
       " ('etc', 52893),\n",
       " ('campaign', 52639),\n",
       " ('however', 52003),\n",
       " ('issue', 51799),\n",
       " ('income', 51403),\n",
       " ('two', 51391),\n",
       " ('least', 51352),\n",
       " ('higher', 51193),\n",
       " ('tax', 50391),\n",
       " ('seems', 50189),\n",
       " ('worth', 49949),\n",
       " ('soon', 49866),\n",
       " ('chain', 49667),\n",
       " ('card', 49425),\n",
       " ('private', 49271),\n",
       " ('matter', 49153),\n",
       " ('wo', 49132),\n",
       " ('holding', 48937),\n",
       " ('huge', 48738),\n",
       " ('trade', 48721),\n",
       " ('stop', 48296),\n",
       " ('segwit', 47902),\n",
       " ('trying', 47886),\n",
       " ('rise', 47885),\n",
       " ('million', 47729),\n",
       " ('gambling', 47403),\n",
       " ('cost', 47384),\n",
       " ('earning', 46921),\n",
       " ('thought', 46879),\n",
       " ('power', 46740),\n",
       " ('trust', 46193),\n",
       " ('altcoins', 46088),\n",
       " ('tell', 45904),\n",
       " ('altcoin', 45839),\n",
       " ('safe', 45837),\n",
       " ('guess', 45820),\n",
       " ('done', 45795),\n",
       " ('full', 45742),\n",
       " ('lose', 45724),\n",
       " ('pretty', 45688),\n",
       " ('run', 45604),\n",
       " ('investor', 45427),\n",
       " ('chance', 45390),\n",
       " ('security', 45225),\n",
       " ('send', 44927),\n",
       " ('current', 44840),\n",
       " ('example', 44824),\n",
       " ('others', 44568),\n",
       " ('signature', 44239),\n",
       " ('rich', 43425),\n",
       " ('source', 43330),\n",
       " ('whole', 43130),\n",
       " ('financial', 43095),\n",
       " ('wrong', 42989),\n",
       " ('scam', 42836),\n",
       " ('instead', 42806),\n",
       " ('thread', 42730),\n",
       " ('important', 42561),\n",
       " ('lost', 42411),\n",
       " ('mb', 41989),\n",
       " ('fund', 41597),\n",
       " ('due', 41562),\n",
       " ('medium', 41470),\n",
       " ('computer', 41386),\n",
       " ('started', 41317),\n",
       " ('save', 41295),\n",
       " ('feel', 41275),\n",
       " ('paypal', 41271),\n",
       " ('illegal', 41069),\n",
       " ('yeah', 40985),\n",
       " ('easily', 40860),\n",
       " ('information', 40676),\n",
       " ('continue', 40600),\n",
       " ('option', 40489),\n",
       " ('benefit', 40432),\n",
       " ('else', 40405),\n",
       " ('size', 40197),\n",
       " ('advantage', 40146),\n",
       " ('per', 40086),\n",
       " ('show', 39984),\n",
       " ('rather', 39883),\n",
       " ('code', 39830),\n",
       " ('interest', 39679),\n",
       " ('especially', 39370),\n",
       " ('almost', 39101),\n",
       " ('order', 39059),\n",
       " ('move', 38965),\n",
       " ('simply', 38727),\n",
       " ('popular', 38627),\n",
       " ('grow', 38516),\n",
       " ('quite', 38325),\n",
       " ('learn', 38211),\n",
       " ('saying', 37940),\n",
       " ('interested', 37884),\n",
       " ('demand', 37539),\n",
       " ('away', 37535),\n",
       " ('large', 37519),\n",
       " ('knowledge', 37448),\n",
       " ('paper', 37425),\n",
       " ('selling', 37417),\n",
       " ('either', 37416),\n",
       " ('game', 37090),\n",
       " ('fast', 36545),\n",
       " ('create', 36424),\n",
       " ('main', 36417),\n",
       " ('ago', 36365),\n",
       " ('open', 36358),\n",
       " ('based', 36330),\n",
       " ('rate', 36123),\n",
       " ('increasing', 36091),\n",
       " ('opportunity', 35776),\n",
       " ('solution', 35534),\n",
       " ('usd', 35312),\n",
       " ('reach', 35199),\n",
       " ('old', 35028),\n",
       " ('asset', 34877),\n",
       " ('please', 34680),\n",
       " ('decentralized', 34672),\n",
       " ('week', 34660),\n",
       " ('ask', 34634),\n",
       " ('looking', 34624),\n",
       " ('thanks', 34602),\n",
       " ('secure', 34512),\n",
       " ('likely', 34405),\n",
       " ('potential', 34398),\n",
       " ('heard', 34327),\n",
       " ('method', 34281),\n",
       " ('working', 33975),\n",
       " ('care', 33556),\n",
       " ('name', 33490),\n",
       " ('cryptocurrencies', 33277),\n",
       " ('attack', 33264),\n",
       " ('thinking', 33242),\n",
       " ('bought', 33233),\n",
       " ('talking', 33038),\n",
       " ('project', 32922),\n",
       " ('share', 32738),\n",
       " ('limit', 32702),\n",
       " ('answer', 32653),\n",
       " ('moment', 32644),\n",
       " ('word', 32531),\n",
       " ('seen', 31827),\n",
       " ('mind', 31764),\n",
       " ('ban', 31747),\n",
       " ('stuff', 31683),\n",
       " ('website', 31586),\n",
       " ('definitely', 31540),\n",
       " ('gain', 31464),\n",
       " ('purpose', 31424),\n",
       " ('plan', 31405),\n",
       " ('exactly', 31370),\n",
       " ('nice', 31284),\n",
       " ('transfer', 31222),\n",
       " ('simple', 31132),\n",
       " ('happens', 31090),\n",
       " ('daily', 31034),\n",
       " ('im', 30919),\n",
       " ('currently', 30843),\n",
       " ('mine', 30721),\n",
       " ('legal', 30686),\n",
       " ('hand', 30636),\n",
       " ('gt', 30635),\n",
       " ('cause', 30605),\n",
       " ('level', 30594),\n",
       " ('form', 30501),\n",
       " ('economy', 30480),\n",
       " ('alt', 30462),\n",
       " ('paid', 30404),\n",
       " ('public', 30394),\n",
       " ('second', 30118),\n",
       " ('explain', 29848),\n",
       " ('credit', 29776),\n",
       " ('short', 29767),\n",
       " ('hour', 29666),\n",
       " ('access', 29627),\n",
       " ('saving', 29415),\n",
       " ('later', 29365),\n",
       " ('stay', 29357),\n",
       " ('adoption', 29319),\n",
       " ('coming', 29313),\n",
       " ('unless', 29216),\n",
       " ('state', 29175),\n",
       " ('doubt', 29143),\n",
       " ('created', 29137),\n",
       " ('difficult', 29128),\n",
       " ('live', 29109),\n",
       " ('accepting', 28952),\n",
       " ('article', 28933),\n",
       " ('situation', 28889),\n",
       " ('experience', 28815),\n",
       " ('side', 28790),\n",
       " ('paying', 28530),\n",
       " ('stable', 28483),\n",
       " ('risky', 28433),\n",
       " ('accepted', 28391),\n",
       " ('faucet', 28339),\n",
       " ('interesting', 28305),\n",
       " ('pool', 28207),\n",
       " ('law', 28196),\n",
       " ('love', 28181),\n",
       " ('found', 28099),\n",
       " ('result', 27852),\n",
       " ('activity', 27847),\n",
       " ('loss', 27800),\n",
       " ('although', 27717),\n",
       " ('confirmation', 27660),\n",
       " ('whether', 27368),\n",
       " ('impossible', 27288),\n",
       " ('drop', 27231),\n",
       " ('rule', 27166),\n",
       " ('coinbase', 27163),\n",
       " ('decision', 26958),\n",
       " ('check', 26945),\n",
       " ('data', 26941),\n",
       " ('majority', 26916),\n",
       " ('profitable', 26882),\n",
       " ('early', 26880),\n",
       " ('local', 26834),\n",
       " ('consider', 26790),\n",
       " ('set', 26749),\n",
       " ('sense', 26684),\n",
       " ('late', 26651),\n",
       " ('choose', 26609),\n",
       " ('amp', 26245),\n",
       " ('past', 26174),\n",
       " ('thats', 26128),\n",
       " ('development', 26105),\n",
       " ('whatever', 26092),\n",
       " ('depends', 26028),\n",
       " ('single', 25999),\n",
       " ('link', 25935),\n",
       " ('offer', 25924),\n",
       " ('happened', 25825),\n",
       " ('certain', 25614),\n",
       " ('lol', 25570),\n",
       " ('fall', 25372),\n",
       " ('supply', 25364),\n",
       " ('bigger', 25183),\n",
       " ('consensus', 25175),\n",
       " ('sometimes', 25108),\n",
       " ('family', 25074),\n",
       " ('process', 24971),\n",
       " ('remember', 24966),\n",
       " ('developer', 24812),\n",
       " ('prefer', 24705),\n",
       " ('convert', 24687),\n",
       " ('talk', 24667),\n",
       " ('type', 24509),\n",
       " ('related', 24498),\n",
       " ('tx', 24456),\n",
       " ('known', 24441),\n",
       " ('expect', 24419),\n",
       " ('behind', 24332),\n",
       " ('called', 24287),\n",
       " ('merchant', 24223),\n",
       " ('waiting', 24039),\n",
       " ('taking', 24002),\n",
       " ('proof', 23992),\n",
       " ('feature', 23835),\n",
       " ('party', 23827),\n",
       " ('running', 23815),\n",
       " ('group', 23789),\n",
       " ('op', 23768),\n",
       " ('banned', 23756),\n",
       " ('purchase', 23751),\n",
       " ('member', 23724),\n",
       " ('add', 23651),\n",
       " ('needed', 23579),\n",
       " ('completely', 23509),\n",
       " ('normal', 23498),\n",
       " ('average', 23480),\n",
       " ('halving', 23470),\n",
       " ('anonymous', 23437),\n",
       " ('anyway', 23393),\n",
       " ('die', 23357),\n",
       " ('surely', 23330),\n",
       " ('growth', 23324),\n",
       " ('choice', 23274),\n",
       " ('longer', 23270),\n",
       " ('chinese', 23084),\n",
       " ('growing', 23070),\n",
       " ('within', 22949),\n",
       " ('involved', 22883),\n",
       " ('lower', 22858),\n",
       " ('top', 22703),\n",
       " ('play', 22674),\n",
       " ('available', 22669),\n",
       " ('minute', 22625),\n",
       " ('join', 22616),\n",
       " ('regulation', 22562),\n",
       " ('topic', 22477),\n",
       " ('happy', 22385),\n",
       " ('major', 22361),\n",
       " ('replace', 22345),\n",
       " ('easier', 22344),\n",
       " ('several', 22268),\n",
       " ('bill', 22095),\n",
       " ('house', 22043),\n",
       " ('man', 21972),\n",
       " ('possibility', 21914),\n",
       " ('social', 21889),\n",
       " ('given', 21756),\n",
       " ('wanted', 21746),\n",
       " ('child', 21743),\n",
       " ('deal', 21728),\n",
       " ('difference', 21548),\n",
       " ('expensive', 21541),\n",
       " ('imagine', 21541),\n",
       " ('info', 21539),\n",
       " ('allow', 21526),\n",
       " ('turn', 21355),\n",
       " ('nobody', 21295),\n",
       " ('near', 21230),\n",
       " ('total', 21136),\n",
       " ('faster', 21129),\n",
       " ('drug', 21120),\n",
       " ('effect', 21074),\n",
       " ('return', 21032),\n",
       " ('customer', 20953),\n",
       " ('usually', 20946),\n",
       " ('hardware', 20919),\n",
       " ('exist', 20898),\n",
       " ('step', 20763),\n",
       " ('atm', 20710),\n",
       " ('directly', 20667),\n",
       " ('provide', 20646),\n",
       " ('stock', 20624),\n",
       " ('biggest', 20559),\n",
       " ('client', 20554),\n",
       " ('call', 20553),\n",
       " ('story', 20549),\n",
       " ('list', 20538),\n",
       " ('spending', 20511),\n",
       " ('xt', 20471),\n",
       " ('follow', 20434),\n",
       " ('living', 20385),\n",
       " ('affect', 20380),\n",
       " ('software', 20340),\n",
       " ('giving', 20052),\n",
       " ('dump', 20051),\n",
       " ('double', 20012),\n",
       " ('hacker', 19984),\n",
       " ('shop', 19955),\n",
       " ('view', 19953),\n",
       " ('seem', 19944),\n",
       " ('strong', 19900),\n",
       " ('criminal', 19860),\n",
       " ('sound', 19855),\n",
       " ('alternative', 19821),\n",
       " ('basically', 19773),\n",
       " ('cheap', 19741),\n",
       " ('banking', 19730),\n",
       " ('worry', 19724),\n",
       " ('bring', 19722),\n",
       " ('ethereum', 19713),\n",
       " ('reward', 19698),\n",
       " ('invested', 19693),\n",
       " ('indeed', 19642),\n",
       " ('phone', 19489),\n",
       " ('poor', 19448),\n",
       " ('video', 19448),\n",
       " ('therefore', 19391),\n",
       " ('personally', 19384),\n",
       " ('clear', 19369),\n",
       " ('correct', 19364),\n",
       " ('leave', 19329),\n",
       " ('left', 19327),\n",
       " ('happening', 19321),\n",
       " ('claim', 19283),\n",
       " ('mostly', 19248),\n",
       " ('capital', 19194),\n",
       " ('negative', 19173),\n",
       " ('positive', 19159),\n",
       " ('cant', 19115),\n",
       " ('virtual', 19104),\n",
       " ('us', 19083),\n",
       " ('anymore', 19079),\n",
       " ('compared', 19037),\n",
       " ('non', 18965),\n",
       " ('survive', 18878),\n",
       " ('trader', 18837),\n",
       " ('certainly', 18824),\n",
       " ('extra', 18775),\n",
       " ('global', 18734),\n",
       " ('wish', 18723),\n",
       " ('couple', 18693),\n",
       " ('receive', 18690),\n",
       " ('google', 18603),\n",
       " ('version', 18561),\n",
       " ('similar', 18546),\n",
       " ('lead', 18439),\n",
       " ('rest', 18370),\n",
       " ('centralized', 18278),\n",
       " ('individual', 18261),\n",
       " ('eventually', 18230),\n",
       " ('thus', 18221),\n",
       " ('asking', 18213),\n",
       " ('protocol', 18191),\n",
       " ('becomes', 18156),\n",
       " ('argument', 18126),\n",
       " ('economic', 18118),\n",
       " ('general', 18046),\n",
       " ('perhaps', 17965),\n",
       " ('central', 17899),\n",
       " ('smart', 17855),\n",
       " ('product', 17842),\n",
       " ('password', 17835),\n",
       " ('recently', 17783),\n",
       " ('mainstream', 17776),\n",
       " ('half', 17766),\n",
       " ('stupid', 17750),\n",
       " ('came', 17612),\n",
       " ('com', 17581),\n",
       " ('starting', 17556),\n",
       " ('research', 17509),\n",
       " ('totally', 17498),\n",
       " ('hear', 17446),\n",
       " ('obviously', 17444),\n",
       " ('woman', 17424),\n",
       " ('hate', 17356),\n",
       " ('owner', 17354),\n",
       " ('sent', 17347),\n",
       " ('aware', 17345),\n",
       " ('tried', 17330),\n",
       " ('sold', 17322),\n",
       " ('suggest', 17298),\n",
       " ('platform', 17215),\n",
       " ('industry', 17139),\n",
       " ('third', 17132),\n",
       " ('hit', 17131),\n",
       " ('personal', 17088),\n",
       " ('reading', 17045),\n",
       " ('avoid', 17009),\n",
       " ('storage', 17001),\n",
       " ('win', 16999),\n",
       " ('gonna', 16892),\n",
       " ('useful', 16883),\n",
       " ('newbie', 16879),\n",
       " ('panic', 16832),\n",
       " ('went', 16831),\n",
       " ('history', 16824),\n",
       " ('offline', 16798),\n",
       " ('seeing', 16788),\n",
       " ('hash', 16777),\n",
       " ('period', 16738),\n",
       " ('thank', 16695),\n",
       " ('decide', 16687),\n",
       " ('spread', 16615),\n",
       " ('otherwise', 16597),\n",
       " ('effort', 16589),\n",
       " ('via', 16457),\n",
       " ('physical', 16440),\n",
       " ('deposit', 16435),\n",
       " ('willing', 16434),\n",
       " ('present', 16390),\n",
       " ('hacked', 16373),\n",
       " ('wealth', 16300),\n",
       " ('volume', 16282),\n",
       " ('close', 16262),\n",
       " ('gavin', 16226),\n",
       " ('considered', 16204),\n",
       " ('eth', 16167),\n",
       " ('limited', 16164),\n",
       " ('hack', 16151),\n",
       " ('changed', 16146),\n",
       " ('actual', 16142),\n",
       " ('gone', 16134),\n",
       " ('mined', 16130),\n",
       " ('shit', 16109),\n",
       " ('successful', 16065),\n",
       " ('email', 16060),\n",
       " ('according', 16057),\n",
       " ('fun', 16053),\n",
       " ('factor', 16052),\n",
       " ('common', 16048),\n",
       " ('sort', 15980),\n",
       " ('saw', 15944),\n",
       " ('bip', 15939),\n",
       " ('dead', 15939),\n",
       " ('thousand', 15828),\n",
       " ('fine', 15751),\n",
       " ('remain', 15731),\n",
       " ('told', 15698),\n",
       " ('japan', 15693),\n",
       " ('afraid', 15660),\n",
       " ('often', 15619),\n",
       " ('sending', 15600),\n",
       " ('disappear', 15599),\n",
       " ('impact', 15542),\n",
       " ('home', 15522),\n",
       " ('nakamoto', 15500),\n",
       " ('wont', 15485),\n",
       " ('force', 15421),\n",
       " ('crash', 15386),\n",
       " ('rising', 15341),\n",
       " ('everyday', 15310),\n",
       " ('zero', 15293),\n",
       " ('statement', 15277),\n",
       " ('original', 15250),\n",
       " ('ico', 15244),\n",
       " ('ok', 15238),\n",
       " ('skill', 15215),\n",
       " ('note', 15213),\n",
       " ('discussion', 15213),\n",
       " ('success', 15211),\n",
       " ('pump', 15179),\n",
       " ('blocksize', 15177),\n",
       " ('human', 15171),\n",
       " ('dream', 15157),\n",
       " ('concept', 15129),\n",
       " ('kid', 15125),\n",
       " ('face', 15105),\n",
       " ('line', 15084),\n",
       " ('bubble', 15066),\n",
       " ('wonder', 14969),\n",
       " ('increased', 14949),\n",
       " ('fully', 14940),\n",
       " ('charge', 14925),\n",
       " ('forever', 14894),\n",
       " ('split', 14858),\n",
       " ('billion', 14849),\n",
       " ('fear', 14814),\n",
       " ('connection', 14798),\n",
       " ('popularity', 14752),\n",
       " ('multiple', 14716),\n",
       " ('cap', 14713),\n",
       " ('along', 14622),\n",
       " ('including', 14523),\n",
       " ('took', 14517),\n",
       " ('peer', 14486),\n",
       " ('nowadays', 14469),\n",
       " ('mass', 14456),\n",
       " ('quickly', 14438),\n",
       " ('event', 14437),\n",
       " ('ready', 14417),\n",
       " ('reality', 14411),\n",
       " ('difficulty', 14400),\n",
       " ('losing', 14382),\n",
       " ('keeping', 14357),\n",
       " ('slow', 14322),\n",
       " ('regret', 14313),\n",
       " ('holder', 14309),\n",
       " ('scheme', 14303),\n",
       " ('sorry', 14268),\n",
       " ('space', 14237),\n",
       " ('scenario', 14196),\n",
       " ('freedom', 14174),\n",
       " ('sign', 14138),\n",
       " ('attention', 14076),\n",
       " ('hopefully', 14068),\n",
       " ('electricity', 14022),\n",
       " ('confirmed', 14018),\n",
       " ('salary', 14009),\n",
       " ('withdraw', 14008),\n",
       " ('litecoin', 13975),\n",
       " ('changing', 13939),\n",
       " ('luck', 13932),\n",
       " ('school', 13928),\n",
       " ('tool', 13925),\n",
       " ('decrease', 13924),\n",
       " ('entire', 13922),\n",
       " ('anywhere', 13868),\n",
       " ('usage', 13859),\n",
       " ('technical', 13844),\n",
       " ('serious', 13830),\n",
       " ('age', 13825),\n",
       " ('team', 13718),\n",
       " ('build', 13626),\n",
       " ('afford', 13609),\n",
       " ('balance', 13591),\n",
       " ('among', 13579),\n",
       " ('valuable', 13556),\n",
       " ('earned', 13551),\n",
       " ('authority', 13508),\n",
       " ('basic', 13506),\n",
       " ('food', 13498),\n",
       " ('necessary', 13492),\n",
       " ('war', 13492),\n",
       " ('regular', 13425),\n",
       " ('token', 13408),\n",
       " ('becoming', 13398),\n",
       " ('till', 13369),\n",
       " ('file', 13351),\n",
       " ('beginning', 13308),\n",
       " ('regarding', 13290),\n",
       " ('search', 13266),\n",
       " ('self', 13256),\n",
       " ('realize', 13255),\n",
       " ('facebook', 13236),\n",
       " ('comment', 13219),\n",
       " ('tech', 13204),\n",
       " ('fake', 13199),\n",
       " ('volatility', 13189),\n",
       " ('solve', 13170),\n",
       " ('trusted', 13163),\n",
       " ('watch', 13154),\n",
       " ('position', 13142),\n",
       " ('alone', 13137),\n",
       " ('lack', 13134),\n",
       " ('recent', 13127),\n",
       " ('ponzi', 13096),\n",
       " ('fud', 13064),\n",
       " ('mentioned', 13064),\n",
       " ('car', 13044),\n",
       " ('blockstream', 13026),\n",
       " ('somehow', 13002),\n",
       " ('machine', 12991),\n",
       " ('crime', 12990),\n",
       " ('mistake', 12984),\n",
       " ('adopt', 12978),\n",
       " ('various', 12976),\n",
       " ('goal', 12923),\n",
       " ('following', 12896),\n",
       " ('together', 12888),\n",
       " ('advice', 12876),\n",
       " ('forget', 12859),\n",
       " ('action', 12823),\n",
       " ('cold', 12806),\n",
       " ('scale', 12802),\n",
       " ('except', 12754),\n",
       " ('compare', 12705),\n",
       " ('official', 12692),\n",
       " ('require', 12657),\n",
       " ('vote', 12648),\n",
       " ('teach', 12647),\n",
       " ('volatile', 12646),\n",
       " ('waste', 12621),\n",
       " ('lt', 12595),\n",
       " ('area', 12589),\n",
       " ('detail', 12588),\n",
       " ('speed', 12536),\n",
       " ('oh', 12508),\n",
       " ('forward', 12505),\n",
       " ('everybody', 12490),\n",
       " ('knew', 12486),\n",
       " ('spam', 12477),\n",
       " ('perfect', 12468),\n",
       " ('understanding', 12440),\n",
       " ('honest', 12404),\n",
       " ('base', 12402),\n",
       " ('towards', 12378),\n",
       " ('threat', 12372),\n",
       " ('besides', 12346),\n",
       " ('focus', 12311),\n",
       " ('decided', 12303),\n",
       " ('taken', 12294),\n",
       " ('moving', 12279),\n",
       " ('society', 12246),\n",
       " ('predict', 12246),\n",
       " ('millionaire', 12244),\n",
       " ('quick', 12183),\n",
       " ('shopping', 12178),\n",
       " ('devs', 12142),\n",
       " ('cool', 12132),\n",
       " ('asked', 12124),\n",
       " ('function', 12115),\n",
       " ('cryptos', 12063),\n",
       " ('absolutely', 12043),\n",
       " ('identity', 12034),\n",
       " ('controlled', 12024),\n",
       " ('finally', 12010),\n",
       " ('somewhere', 12005),\n",
       " ('prove', 11989),\n",
       " ('creating', 11988),\n",
       " ('message', 11984),\n",
       " ('spent', 11982),\n",
       " ('mobile', 11958),\n",
       " ('convince', 11952),\n",
       " ('highly', 11934),\n",
       " ('theory', 11906),\n",
       " ('update', 11870),\n",
       " ('earnings', 11863),\n",
       " ('larger', 11840),\n",
       " ('considering', 11794),\n",
       " ('speculation', 11732),\n",
       " ('bitcointalk', 11702),\n",
       " ('break', 11652),\n",
       " ('page', 11626),\n",
       " ('anonymity', 11626),\n",
       " ('foundation', 11609),\n",
       " ('seriously', 11600),\n",
       " ('became', 11579),\n",
       " ('assume', 11550),\n",
       " ('nature', 11490),\n",
       " ('track', 11487),\n",
       " ('server', 11484),\n",
       " ('knowing', 11466),\n",
       " ('bet', 11451),\n",
       " ('act', 11450),\n",
       " ('possibly', 11448),\n",
       " ('depend', 11407),\n",
       " ('bu', 11393),\n",
       " ('privacy', 11357),\n",
       " ('drive', 11348),\n",
       " ('destroy', 11348),\n",
       " ('ln', 11342),\n",
       " ('obvious', 11334),\n",
       " ('strategy', 11318),\n",
       " ('attempt', 11317),\n",
       " ('test', 11305),\n",
       " ('clearly', 11304),\n",
       " ('handle', 11266),\n",
       " ('ledger', 11231),\n",
       " ('plus', 11205),\n",
       " ('prevent', 11201),\n",
       " ('worldwide', 11195),\n",
       " ('property', 11171),\n",
       " ('reached', 11146),\n",
       " ('stolen', 11137),\n",
       " ('enjoy', 11130),\n",
       " ('decentralization', 11114),\n",
       " ('learning', 11105),\n",
       " ('added', 11023),\n",
       " ('ability', 11021),\n",
       " ('scammer', 11020),\n",
       " ('generation', 11017),\n",
       " ('ad', 10960),\n",
       " ('fail', 10953),\n",
       " ('study', 10945),\n",
       " ('trend', 10938),\n",
       " ('expert', 10929),\n",
       " ('slowly', 10850),\n",
       " ('specific', 10828),\n",
       " ('hundred', 10807),\n",
       " ('debit', 10739),\n",
       " ('cloud', 10724),\n",
       " ('date', 10716),\n",
       " ('electrum', 10699),\n",
       " ('valid', 10698),\n",
       " ('bounty', 10685),\n",
       " ('protect', 10669),\n",
       " ('evidence', 10664),\n",
       " ('cheaper', 10646),\n",
       " ('standard', 10634),\n",
       " ('implementation', 10619),\n",
       " ('playing', 10612),\n",
       " ('everywhere', 10563),\n",
       " ('figure', 10562),\n",
       " ('kill', 10561),\n",
       " ('required', 10549),\n",
       " ('th', 10545),\n",
       " ('crazy', 10510),\n",
       " ('population', 10488),\n",
       " ('citizen', 10475),\n",
       " ('resource', 10448),\n",
       " ('fair', 10443),\n",
       " ('hoping', 10415),\n",
       " ('received', 10404),\n",
       " ('concern', 10394),\n",
       " ('none', 10354),\n",
       " ('fix', 10343),\n",
       " ('scaling', 10314),\n",
       " ('steal', 10307),\n",
       " ('device', 10301),\n",
       " ('three', 10277),\n",
       " ('useless', 10248),\n",
       " ('stand', 10205),\n",
       " ('upon', 10203),\n",
       " ('expected', 10187),\n",
       " ('posting', 10186),\n",
       " ('worst', 10152),\n",
       " ('truth', 10144),\n",
       " ('active', 10130),\n",
       " ('anytime', 10130),\n",
       " ('unlike', 10129),\n",
       " ('ahead', 10099),\n",
       " ('amazon', 10098),\n",
       " ('lucky', 10090),\n",
       " ('student', 10087),\n",
       " ('meaning', 10079),\n",
       " ('debate', 10079),\n",
       " ('requires', 10075),\n",
       " ('banning', 10066),\n",
       " ('previous', 10055),\n",
       " ('unfortunately', 10054),\n",
       " ('significant', 10049),\n",
       " ('eg', 10028),\n",
       " ('careful', 10019),\n",
       " ('pc', 10017),\n",
       " ('stage', 9986),\n",
       " ('india', 9978),\n",
       " ('gox', 9976),\n",
       " ('complete', 9975),\n",
       " ('gamble', 9966),\n",
       " ('someday', 9954),\n",
       " ('mention', 9951),\n",
       " ('head', 9930),\n",
       " ('honestly', 9898),\n",
       " ('app', 9893),\n",
       " ...]"
      ]
     },
     "execution_count": 117,
     "metadata": {},
     "output_type": "execute_result"
    }
   ],
   "source": [
    "word_freq.most_common(2000)"
   ]
  },
  {
   "cell_type": "code",
   "execution_count": 33,
   "metadata": {},
   "outputs": [
    {
     "data": {
      "text/plain": [
       "('craig grab existing signature used satoshi pretend created sign document sartre fraud even gavin sure earth make claiming satoshi asked gavin come verify claim also posting exact thing multiple topic read post seem understand craig said satoshi find quote said always said colleague access supercomputer plausible able reverse hash order find text matched signature already blockchain without explanation must private key seem understand technology replying every topic post relevant one created many duplicate topic replying every topic post relevant one created many duplicate topic relevant spamming could start topic course saying knew satoshi satoshi gavin come meeting saying satoshi surely would told gavin friend butthurt relevant craig played gavin know gavin need support preference block scaling debate',\n",
       " 15)"
      ]
     },
     "execution_count": 33,
     "metadata": {},
     "output_type": "execute_result"
    }
   ],
   "source": [
    "word = dist.most_common(200)[82][0]\n",
    "dist.most_common(200)[82]"
   ]
  },
  {
   "cell_type": "code",
   "execution_count": 76,
   "metadata": {},
   "outputs": [
    {
     "data": {
      "text/plain": [
       "['think',\n",
       " 'two',\n",
       " 'country',\n",
       " 'located',\n",
       " 'capital',\n",
       " 'financial',\n",
       " 'hub',\n",
       " 'know',\n",
       " 'still',\n",
       " 'functional',\n",
       " 'though']"
      ]
     },
     "execution_count": 76,
     "metadata": {},
     "output_type": "execute_result"
    }
   ],
   "source": [
    "tokens[2]"
   ]
  },
  {
   "cell_type": "code",
   "execution_count": 54,
   "metadata": {
    "collapsed": true
   },
   "outputs": [],
   "source": [
    "def wordListToFreqDict(wordlist):\n",
    "    wordfreq = [wordlist.count(p) for p in wordlist]\n",
    "    return dict(zip(wordlist,wordfreq))"
   ]
  },
  {
   "cell_type": "code",
   "execution_count": 79,
   "metadata": {
    "collapsed": true
   },
   "outputs": [],
   "source": [
    "dic2 = wordListToFreqDict(tokens[1])"
   ]
  },
  {
   "cell_type": "code",
   "execution_count": 84,
   "metadata": {},
   "outputs": [
    {
     "data": {
      "text/plain": [
       "{'actually': 1,\n",
       " 'already': 1,\n",
       " 'atm': 1,\n",
       " 'bitcoins': 1,\n",
       " 'buy': 1,\n",
       " 'capital': 1,\n",
       " 'city': 1,\n",
       " 'country': 1,\n",
       " 'expensive': 1,\n",
       " 'financial': 1,\n",
       " 'functional': 1,\n",
       " 'hub': 1,\n",
       " 'know': 1,\n",
       " 'likely': 1,\n",
       " 'live': 1,\n",
       " 'located': 1,\n",
       " 'many': 1,\n",
       " 'one': 1,\n",
       " 'operation': 1,\n",
       " 'played': 1,\n",
       " 'still': 1,\n",
       " 'stop': 1,\n",
       " 'think': 1,\n",
       " 'though': 1,\n",
       " 'two': 1,\n",
       " 'us': 1,\n",
       " 'way': 1}"
      ]
     },
     "execution_count": 84,
     "metadata": {},
     "output_type": "execute_result"
    }
   ],
   "source": [
    "{k: dic1.get(k, 0) + dic2.get(k, 0) for k in set(dic1) | set(dic2)}++"
   ]
  },
  {
   "cell_type": "code",
   "execution_count": 92,
   "metadata": {},
   "outputs": [
    {
     "data": {
      "text/plain": [
       "datetime.date(2016, 9, 22)"
      ]
     },
     "execution_count": 92,
     "metadata": {},
     "output_type": "execute_result"
    }
   ],
   "source": [
    "max([com[0] for com in comments])"
   ]
  },
  {
   "cell_type": "code",
   "execution_count": 9,
   "metadata": {},
   "outputs": [
    {
     "data": {
      "text/html": [
       "<div>\n",
       "<style>\n",
       "    .dataframe thead tr:only-child th {\n",
       "        text-align: right;\n",
       "    }\n",
       "\n",
       "    .dataframe thead th {\n",
       "        text-align: left;\n",
       "    }\n",
       "\n",
       "    .dataframe tbody tr th {\n",
       "        vertical-align: top;\n",
       "    }\n",
       "</style>\n",
       "<table border=\"1\" class=\"dataframe\">\n",
       "  <thead>\n",
       "    <tr style=\"text-align: right;\">\n",
       "      <th></th>\n",
       "      <th>Topic No.</th>\n",
       "      <th>Comment</th>\n",
       "      <th>Date</th>\n",
       "    </tr>\n",
       "  </thead>\n",
       "  <tbody>\n",
       "    <tr>\n",
       "      <th>0</th>\n",
       "      <td>0</td>\n",
       "      <td>Repost: Bitcoin Maturation--------------------...</td>\n",
       "      <td>2009-11-22</td>\n",
       "    </tr>\n",
       "    <tr>\n",
       "      <th>1</th>\n",
       "      <td>1</td>\n",
       "      <td>Repost: Request: Make this anonymous?---------...</td>\n",
       "      <td>2009-11-22</td>\n",
       "    </tr>\n",
       "  </tbody>\n",
       "</table>\n",
       "</div>"
      ],
      "text/plain": [
       "   Topic No.                                            Comment        Date\n",
       "0          0  Repost: Bitcoin Maturation--------------------...  2009-11-22\n",
       "1          1  Repost: Request: Make this anonymous?---------...  2009-11-22"
      ]
     },
     "execution_count": 9,
     "metadata": {},
     "output_type": "execute_result"
    }
   ],
   "source": [
    "df[:2]"
   ]
  },
  {
   "cell_type": "code",
   "execution_count": 17,
   "metadata": {},
   "outputs": [],
   "source": [
    "a = df.groupby(\"Date\").count()"
   ]
  },
  {
   "cell_type": "code",
   "execution_count": 18,
   "metadata": {},
   "outputs": [
    {
     "data": {
      "text/plain": [
       "<matplotlib.axes._subplots.AxesSubplot at 0x212f8f17f98>"
      ]
     },
     "execution_count": 18,
     "metadata": {},
     "output_type": "execute_result"
    },
    {
     "data": {
      "image/png": "[encoded data removed]",
      "text/plain": [
       "<matplotlib.figure.Figure at 0x212f8f177f0>"
      ]
     },
     "metadata": {},
     "output_type": "display_data"
    }
   ],
   "source": [
    "a['Comment'][1249:].plot(figsize= (14,8))"
   ]
  },
  {
   "cell_type": "code",
   "execution_count": null,
   "metadata": {},
   "outputs": [],
   "source": []
  },
  {
   "cell_type": "code",
   "execution_count": 20,
   "metadata": {},
   "outputs": [
    {
     "name": "stdout",
     "output_type": "stream",
     "text": [
      "Wall time: 6.39 s\n"
     ]
    }
   ],
   "source": [
    "%%time\n",
    "\n",
    "for i in range(10000000):\n",
    "    a = i"
   ]
  },
  {
   "cell_type": "code",
   "execution_count": 62,
   "metadata": {},
   "outputs": [],
   "source": [
    "urlMarket = 'http://coinmarketcap.com/currencies/bitcoin/historical-data/?start=20140101&end=20180315'\n",
    "df = pd.read_html(urlMarket)[0]\n",
    "df.index  = [datetime.datetime.strptime(date, '%b %d, %Y') for date in df[\"Date\"]]\n",
    "df.index.name = 'Date'\n",
    "df = df.sort_index()\n"
   ]
  },
  {
   "cell_type": "code",
   "execution_count": 63,
   "metadata": {},
   "outputs": [
    {
     "data": {
      "text/plain": [
       "<matplotlib.axes._subplots.AxesSubplot at 0x2010bb0ed68>"
      ]
     },
     "execution_count": 63,
     "metadata": {},
     "output_type": "execute_result"
    },
    {
     "data": {
      "image/png": "[encoded data removed]",
      "text/plain": [
       "<matplotlib.figure.Figure at 0x2010bb0e390>"
      ]
     },
     "metadata": {},
     "output_type": "display_data"
    }
   ],
   "source": [
    "df[\"Open\"].plot(figsize= (14,8))"
   ]
  },
  {
   "cell_type": "markdown",
   "metadata": {},
   "source": [
    "# DTM"
   ]
  },
  {
   "cell_type": "code",
   "execution_count": 7,
   "metadata": {},
   "outputs": [],
   "source": [
    "#jei corpuse veikia tai nereikia\n",
    "import gzip\n",
    "if 1==0:\n",
    "    with gzip.open(os.path.join(project_data_path, 'bigram_tokens'), 'wb') as f:\n",
    "        pickle.dump(bigram_tokens, f, pickle.HIGHEST_PROTOCOL)\n",
    "else:\n",
    "    with gzip.open(os.path.join(project_data_path, 'bigram_tokens'), 'rb') as f:\n",
    "        bigram_tokens = pickle.load(f)\n"
   ]
  },
  {
   "cell_type": "code",
   "execution_count": 3,
   "metadata": {},
   "outputs": [],
   "source": [
    "import numpy as np\n",
    "from gensim import corpora, utils\n",
    "from gensim.models.wrappers.dtmmodel import DtmModel\n",
    "from gensim.models import ldaseqmodel"
   ]
  },
  {
   "cell_type": "code",
   "execution_count": 4,
   "metadata": {},
   "outputs": [
    {
     "ename": "FileNotFoundError",
     "evalue": "[Errno 2] No such file or directory: '..\\\\project_data\\\\comments'",
     "output_type": "error",
     "traceback": [
      "\u001b[1;31m---------------------------------------------------------------------------\u001b[0m",
      "\u001b[1;31mFileNotFoundError\u001b[0m                         Traceback (most recent call last)",
      "\u001b[1;32mc:\\users\\giedrius\\appdata\\local\\programs\\python\\python35\\lib\\site-packages\\pandas\\io\\pickle.py\u001b[0m in \u001b[0;36mtry_read\u001b[1;34m(path, encoding)\u001b[0m\n\u001b[0;32m     82\u001b[0m         \u001b[1;32mtry\u001b[0m\u001b[1;33m:\u001b[0m\u001b[1;33m\u001b[0m\u001b[0m\n\u001b[1;32m---> 83\u001b[1;33m             \u001b[1;32mreturn\u001b[0m \u001b[0mread_wrapper\u001b[0m\u001b[1;33m(\u001b[0m\u001b[1;32mlambda\u001b[0m \u001b[0mf\u001b[0m\u001b[1;33m:\u001b[0m \u001b[0mpkl\u001b[0m\u001b[1;33m.\u001b[0m\u001b[0mload\u001b[0m\u001b[1;33m(\u001b[0m\u001b[0mf\u001b[0m\u001b[1;33m)\u001b[0m\u001b[1;33m)\u001b[0m\u001b[1;33m\u001b[0m\u001b[0m\n\u001b[0m\u001b[0;32m     84\u001b[0m         \u001b[1;32mexcept\u001b[0m \u001b[0mException\u001b[0m\u001b[1;33m:\u001b[0m\u001b[1;33m\u001b[0m\u001b[0m\n",
      "\u001b[1;32mc:\\users\\giedrius\\appdata\\local\\programs\\python\\python35\\lib\\site-packages\\pandas\\io\\pickle.py\u001b[0m in \u001b[0;36mread_wrapper\u001b[1;34m(func)\u001b[0m\n\u001b[0;32m     65\u001b[0m                             \u001b[0mcompression\u001b[0m\u001b[1;33m=\u001b[0m\u001b[0minferred_compression\u001b[0m\u001b[1;33m,\u001b[0m\u001b[1;33m\u001b[0m\u001b[0m\n\u001b[1;32m---> 66\u001b[1;33m                             is_text=False)\n\u001b[0m\u001b[0;32m     67\u001b[0m         \u001b[1;32mtry\u001b[0m\u001b[1;33m:\u001b[0m\u001b[1;33m\u001b[0m\u001b[0m\n",
      "\u001b[1;32mc:\\users\\giedrius\\appdata\\local\\programs\\python\\python35\\lib\\site-packages\\pandas\\io\\common.py\u001b[0m in \u001b[0;36m_get_handle\u001b[1;34m(path_or_buf, mode, encoding, compression, memory_map, is_text)\u001b[0m\n\u001b[0;32m    387\u001b[0m             \u001b[1;31m# Python 3 and binary mode\u001b[0m\u001b[1;33m\u001b[0m\u001b[1;33m\u001b[0m\u001b[0m\n\u001b[1;32m--> 388\u001b[1;33m             \u001b[0mf\u001b[0m \u001b[1;33m=\u001b[0m \u001b[0mopen\u001b[0m\u001b[1;33m(\u001b[0m\u001b[0mpath_or_buf\u001b[0m\u001b[1;33m,\u001b[0m \u001b[0mmode\u001b[0m\u001b[1;33m)\u001b[0m\u001b[1;33m\u001b[0m\u001b[0m\n\u001b[0m\u001b[0;32m    389\u001b[0m         \u001b[0mhandles\u001b[0m\u001b[1;33m.\u001b[0m\u001b[0mappend\u001b[0m\u001b[1;33m(\u001b[0m\u001b[0mf\u001b[0m\u001b[1;33m)\u001b[0m\u001b[1;33m\u001b[0m\u001b[0m\n",
      "\u001b[1;31mFileNotFoundError\u001b[0m: [Errno 2] No such file or directory: '..\\\\project_data\\\\comments'",
      "\nDuring handling of the above exception, another exception occurred:\n",
      "\u001b[1;31mFileNotFoundError\u001b[0m                         Traceback (most recent call last)",
      "\u001b[1;32mc:\\users\\giedrius\\appdata\\local\\programs\\python\\python35\\lib\\site-packages\\pandas\\io\\pickle.py\u001b[0m in \u001b[0;36mtry_read\u001b[1;34m(path, encoding)\u001b[0m\n\u001b[0;32m     87\u001b[0m                 return read_wrapper(\n\u001b[1;32m---> 88\u001b[1;33m                     lambda f: pc.load(f, encoding=encoding, compat=False))\n\u001b[0m\u001b[0;32m     89\u001b[0m             \u001b[1;31m# compat pickle\u001b[0m\u001b[1;33m\u001b[0m\u001b[1;33m\u001b[0m\u001b[0m\n",
      "\u001b[1;32mc:\\users\\giedrius\\appdata\\local\\programs\\python\\python35\\lib\\site-packages\\pandas\\io\\pickle.py\u001b[0m in \u001b[0;36mread_wrapper\u001b[1;34m(func)\u001b[0m\n\u001b[0;32m     65\u001b[0m                             \u001b[0mcompression\u001b[0m\u001b[1;33m=\u001b[0m\u001b[0minferred_compression\u001b[0m\u001b[1;33m,\u001b[0m\u001b[1;33m\u001b[0m\u001b[0m\n\u001b[1;32m---> 66\u001b[1;33m                             is_text=False)\n\u001b[0m\u001b[0;32m     67\u001b[0m         \u001b[1;32mtry\u001b[0m\u001b[1;33m:\u001b[0m\u001b[1;33m\u001b[0m\u001b[0m\n",
      "\u001b[1;32mc:\\users\\giedrius\\appdata\\local\\programs\\python\\python35\\lib\\site-packages\\pandas\\io\\common.py\u001b[0m in \u001b[0;36m_get_handle\u001b[1;34m(path_or_buf, mode, encoding, compression, memory_map, is_text)\u001b[0m\n\u001b[0;32m    387\u001b[0m             \u001b[1;31m# Python 3 and binary mode\u001b[0m\u001b[1;33m\u001b[0m\u001b[1;33m\u001b[0m\u001b[0m\n\u001b[1;32m--> 388\u001b[1;33m             \u001b[0mf\u001b[0m \u001b[1;33m=\u001b[0m \u001b[0mopen\u001b[0m\u001b[1;33m(\u001b[0m\u001b[0mpath_or_buf\u001b[0m\u001b[1;33m,\u001b[0m \u001b[0mmode\u001b[0m\u001b[1;33m)\u001b[0m\u001b[1;33m\u001b[0m\u001b[0m\n\u001b[0m\u001b[0;32m    389\u001b[0m         \u001b[0mhandles\u001b[0m\u001b[1;33m.\u001b[0m\u001b[0mappend\u001b[0m\u001b[1;33m(\u001b[0m\u001b[0mf\u001b[0m\u001b[1;33m)\u001b[0m\u001b[1;33m\u001b[0m\u001b[0m\n",
      "\u001b[1;31mFileNotFoundError\u001b[0m: [Errno 2] No such file or directory: '..\\\\project_data\\\\comments'",
      "\nDuring handling of the above exception, another exception occurred:\n",
      "\u001b[1;31mFileNotFoundError\u001b[0m                         Traceback (most recent call last)",
      "\u001b[1;32mc:\\users\\giedrius\\appdata\\local\\programs\\python\\python35\\lib\\site-packages\\pandas\\io\\pickle.py\u001b[0m in \u001b[0;36mread_pickle\u001b[1;34m(path, compression)\u001b[0m\n\u001b[0;32m     93\u001b[0m     \u001b[1;32mtry\u001b[0m\u001b[1;33m:\u001b[0m\u001b[1;33m\u001b[0m\u001b[0m\n\u001b[1;32m---> 94\u001b[1;33m         \u001b[1;32mreturn\u001b[0m \u001b[0mtry_read\u001b[0m\u001b[1;33m(\u001b[0m\u001b[0mpath\u001b[0m\u001b[1;33m)\u001b[0m\u001b[1;33m\u001b[0m\u001b[0m\n\u001b[0m\u001b[0;32m     95\u001b[0m     \u001b[1;32mexcept\u001b[0m\u001b[1;33m:\u001b[0m\u001b[1;33m\u001b[0m\u001b[0m\n",
      "\u001b[1;32mc:\\users\\giedrius\\appdata\\local\\programs\\python\\python35\\lib\\site-packages\\pandas\\io\\pickle.py\u001b[0m in \u001b[0;36mtry_read\u001b[1;34m(path, encoding)\u001b[0m\n\u001b[0;32m     91\u001b[0m                 return read_wrapper(\n\u001b[1;32m---> 92\u001b[1;33m                     lambda f: pc.load(f, encoding=encoding, compat=True))\n\u001b[0m\u001b[0;32m     93\u001b[0m     \u001b[1;32mtry\u001b[0m\u001b[1;33m:\u001b[0m\u001b[1;33m\u001b[0m\u001b[0m\n",
      "\u001b[1;32mc:\\users\\giedrius\\appdata\\local\\programs\\python\\python35\\lib\\site-packages\\pandas\\io\\pickle.py\u001b[0m in \u001b[0;36mread_wrapper\u001b[1;34m(func)\u001b[0m\n\u001b[0;32m     65\u001b[0m                             \u001b[0mcompression\u001b[0m\u001b[1;33m=\u001b[0m\u001b[0minferred_compression\u001b[0m\u001b[1;33m,\u001b[0m\u001b[1;33m\u001b[0m\u001b[0m\n\u001b[1;32m---> 66\u001b[1;33m                             is_text=False)\n\u001b[0m\u001b[0;32m     67\u001b[0m         \u001b[1;32mtry\u001b[0m\u001b[1;33m:\u001b[0m\u001b[1;33m\u001b[0m\u001b[0m\n",
      "\u001b[1;32mc:\\users\\giedrius\\appdata\\local\\programs\\python\\python35\\lib\\site-packages\\pandas\\io\\common.py\u001b[0m in \u001b[0;36m_get_handle\u001b[1;34m(path_or_buf, mode, encoding, compression, memory_map, is_text)\u001b[0m\n\u001b[0;32m    387\u001b[0m             \u001b[1;31m# Python 3 and binary mode\u001b[0m\u001b[1;33m\u001b[0m\u001b[1;33m\u001b[0m\u001b[0m\n\u001b[1;32m--> 388\u001b[1;33m             \u001b[0mf\u001b[0m \u001b[1;33m=\u001b[0m \u001b[0mopen\u001b[0m\u001b[1;33m(\u001b[0m\u001b[0mpath_or_buf\u001b[0m\u001b[1;33m,\u001b[0m \u001b[0mmode\u001b[0m\u001b[1;33m)\u001b[0m\u001b[1;33m\u001b[0m\u001b[0m\n\u001b[0m\u001b[0;32m    389\u001b[0m         \u001b[0mhandles\u001b[0m\u001b[1;33m.\u001b[0m\u001b[0mappend\u001b[0m\u001b[1;33m(\u001b[0m\u001b[0mf\u001b[0m\u001b[1;33m)\u001b[0m\u001b[1;33m\u001b[0m\u001b[0m\n",
      "\u001b[1;31mFileNotFoundError\u001b[0m: [Errno 2] No such file or directory: '..\\\\project_data\\\\comments'",
      "\nDuring handling of the above exception, another exception occurred:\n",
      "\u001b[1;31mFileNotFoundError\u001b[0m                         Traceback (most recent call last)",
      "\u001b[1;32mc:\\users\\giedrius\\appdata\\local\\programs\\python\\python35\\lib\\site-packages\\pandas\\io\\pickle.py\u001b[0m in \u001b[0;36mtry_read\u001b[1;34m(path, encoding)\u001b[0m\n\u001b[0;32m     82\u001b[0m         \u001b[1;32mtry\u001b[0m\u001b[1;33m:\u001b[0m\u001b[1;33m\u001b[0m\u001b[0m\n\u001b[1;32m---> 83\u001b[1;33m             \u001b[1;32mreturn\u001b[0m \u001b[0mread_wrapper\u001b[0m\u001b[1;33m(\u001b[0m\u001b[1;32mlambda\u001b[0m \u001b[0mf\u001b[0m\u001b[1;33m:\u001b[0m \u001b[0mpkl\u001b[0m\u001b[1;33m.\u001b[0m\u001b[0mload\u001b[0m\u001b[1;33m(\u001b[0m\u001b[0mf\u001b[0m\u001b[1;33m)\u001b[0m\u001b[1;33m)\u001b[0m\u001b[1;33m\u001b[0m\u001b[0m\n\u001b[0m\u001b[0;32m     84\u001b[0m         \u001b[1;32mexcept\u001b[0m \u001b[0mException\u001b[0m\u001b[1;33m:\u001b[0m\u001b[1;33m\u001b[0m\u001b[0m\n",
      "\u001b[1;32mc:\\users\\giedrius\\appdata\\local\\programs\\python\\python35\\lib\\site-packages\\pandas\\io\\pickle.py\u001b[0m in \u001b[0;36mread_wrapper\u001b[1;34m(func)\u001b[0m\n\u001b[0;32m     65\u001b[0m                             \u001b[0mcompression\u001b[0m\u001b[1;33m=\u001b[0m\u001b[0minferred_compression\u001b[0m\u001b[1;33m,\u001b[0m\u001b[1;33m\u001b[0m\u001b[0m\n\u001b[1;32m---> 66\u001b[1;33m                             is_text=False)\n\u001b[0m\u001b[0;32m     67\u001b[0m         \u001b[1;32mtry\u001b[0m\u001b[1;33m:\u001b[0m\u001b[1;33m\u001b[0m\u001b[0m\n",
      "\u001b[1;32mc:\\users\\giedrius\\appdata\\local\\programs\\python\\python35\\lib\\site-packages\\pandas\\io\\common.py\u001b[0m in \u001b[0;36m_get_handle\u001b[1;34m(path_or_buf, mode, encoding, compression, memory_map, is_text)\u001b[0m\n\u001b[0;32m    387\u001b[0m             \u001b[1;31m# Python 3 and binary mode\u001b[0m\u001b[1;33m\u001b[0m\u001b[1;33m\u001b[0m\u001b[0m\n\u001b[1;32m--> 388\u001b[1;33m             \u001b[0mf\u001b[0m \u001b[1;33m=\u001b[0m \u001b[0mopen\u001b[0m\u001b[1;33m(\u001b[0m\u001b[0mpath_or_buf\u001b[0m\u001b[1;33m,\u001b[0m \u001b[0mmode\u001b[0m\u001b[1;33m)\u001b[0m\u001b[1;33m\u001b[0m\u001b[0m\n\u001b[0m\u001b[0;32m    389\u001b[0m         \u001b[0mhandles\u001b[0m\u001b[1;33m.\u001b[0m\u001b[0mappend\u001b[0m\u001b[1;33m(\u001b[0m\u001b[0mf\u001b[0m\u001b[1;33m)\u001b[0m\u001b[1;33m\u001b[0m\u001b[0m\n",
      "\u001b[1;31mFileNotFoundError\u001b[0m: [Errno 2] No such file or directory: '..\\\\project_data\\\\comments'",
      "\nDuring handling of the above exception, another exception occurred:\n",
      "\u001b[1;31mFileNotFoundError\u001b[0m                         Traceback (most recent call last)",
      "\u001b[1;32mc:\\users\\giedrius\\appdata\\local\\programs\\python\\python35\\lib\\site-packages\\pandas\\io\\pickle.py\u001b[0m in \u001b[0;36mtry_read\u001b[1;34m(path, encoding)\u001b[0m\n\u001b[0;32m     87\u001b[0m                 return read_wrapper(\n\u001b[1;32m---> 88\u001b[1;33m                     lambda f: pc.load(f, encoding=encoding, compat=False))\n\u001b[0m\u001b[0;32m     89\u001b[0m             \u001b[1;31m# compat pickle\u001b[0m\u001b[1;33m\u001b[0m\u001b[1;33m\u001b[0m\u001b[0m\n",
      "\u001b[1;32mc:\\users\\giedrius\\appdata\\local\\programs\\python\\python35\\lib\\site-packages\\pandas\\io\\pickle.py\u001b[0m in \u001b[0;36mread_wrapper\u001b[1;34m(func)\u001b[0m\n\u001b[0;32m     65\u001b[0m                             \u001b[0mcompression\u001b[0m\u001b[1;33m=\u001b[0m\u001b[0minferred_compression\u001b[0m\u001b[1;33m,\u001b[0m\u001b[1;33m\u001b[0m\u001b[0m\n\u001b[1;32m---> 66\u001b[1;33m                             is_text=False)\n\u001b[0m\u001b[0;32m     67\u001b[0m         \u001b[1;32mtry\u001b[0m\u001b[1;33m:\u001b[0m\u001b[1;33m\u001b[0m\u001b[0m\n",
      "\u001b[1;32mc:\\users\\giedrius\\appdata\\local\\programs\\python\\python35\\lib\\site-packages\\pandas\\io\\common.py\u001b[0m in \u001b[0;36m_get_handle\u001b[1;34m(path_or_buf, mode, encoding, compression, memory_map, is_text)\u001b[0m\n\u001b[0;32m    387\u001b[0m             \u001b[1;31m# Python 3 and binary mode\u001b[0m\u001b[1;33m\u001b[0m\u001b[1;33m\u001b[0m\u001b[0m\n\u001b[1;32m--> 388\u001b[1;33m             \u001b[0mf\u001b[0m \u001b[1;33m=\u001b[0m \u001b[0mopen\u001b[0m\u001b[1;33m(\u001b[0m\u001b[0mpath_or_buf\u001b[0m\u001b[1;33m,\u001b[0m \u001b[0mmode\u001b[0m\u001b[1;33m)\u001b[0m\u001b[1;33m\u001b[0m\u001b[0m\n\u001b[0m\u001b[0;32m    389\u001b[0m         \u001b[0mhandles\u001b[0m\u001b[1;33m.\u001b[0m\u001b[0mappend\u001b[0m\u001b[1;33m(\u001b[0m\u001b[0mf\u001b[0m\u001b[1;33m)\u001b[0m\u001b[1;33m\u001b[0m\u001b[0m\n",
      "\u001b[1;31mFileNotFoundError\u001b[0m: [Errno 2] No such file or directory: '..\\\\project_data\\\\comments'",
      "\nDuring handling of the above exception, another exception occurred:\n",
      "\u001b[1;31mFileNotFoundError\u001b[0m                         Traceback (most recent call last)",
      "\u001b[1;32m<ipython-input-4-d5b236e69be8>\u001b[0m in \u001b[0;36m<module>\u001b[1;34m()\u001b[0m\n\u001b[1;32m----> 1\u001b[1;33m \u001b[0mcomments\u001b[0m \u001b[1;33m=\u001b[0m \u001b[0mpd\u001b[0m\u001b[1;33m.\u001b[0m\u001b[0mread_pickle\u001b[0m\u001b[1;33m(\u001b[0m\u001b[0mos\u001b[0m\u001b[1;33m.\u001b[0m\u001b[0mpath\u001b[0m\u001b[1;33m.\u001b[0m\u001b[0mjoin\u001b[0m\u001b[1;33m(\u001b[0m\u001b[0mproject_data_path\u001b[0m\u001b[1;33m,\u001b[0m \u001b[1;34m\"comments\"\u001b[0m\u001b[1;33m)\u001b[0m\u001b[1;33m)\u001b[0m\u001b[1;33m\u001b[0m\u001b[0m\n\u001b[0m",
      "\u001b[1;32mc:\\users\\giedrius\\appdata\\local\\programs\\python\\python35\\lib\\site-packages\\pandas\\io\\pickle.py\u001b[0m in \u001b[0;36mread_pickle\u001b[1;34m(path, compression)\u001b[0m\n\u001b[0;32m     95\u001b[0m     \u001b[1;32mexcept\u001b[0m\u001b[1;33m:\u001b[0m\u001b[1;33m\u001b[0m\u001b[0m\n\u001b[0;32m     96\u001b[0m         \u001b[1;32mif\u001b[0m \u001b[0mPY3\u001b[0m\u001b[1;33m:\u001b[0m\u001b[1;33m\u001b[0m\u001b[0m\n\u001b[1;32m---> 97\u001b[1;33m             \u001b[1;32mreturn\u001b[0m \u001b[0mtry_read\u001b[0m\u001b[1;33m(\u001b[0m\u001b[0mpath\u001b[0m\u001b[1;33m,\u001b[0m \u001b[0mencoding\u001b[0m\u001b[1;33m=\u001b[0m\u001b[1;34m'latin1'\u001b[0m\u001b[1;33m)\u001b[0m\u001b[1;33m\u001b[0m\u001b[0m\n\u001b[0m\u001b[0;32m     98\u001b[0m         \u001b[1;32mraise\u001b[0m\u001b[1;33m\u001b[0m\u001b[0m\n\u001b[0;32m     99\u001b[0m \u001b[1;33m\u001b[0m\u001b[0m\n",
      "\u001b[1;32mc:\\users\\giedrius\\appdata\\local\\programs\\python\\python35\\lib\\site-packages\\pandas\\io\\pickle.py\u001b[0m in \u001b[0;36mtry_read\u001b[1;34m(path, encoding)\u001b[0m\n\u001b[0;32m     90\u001b[0m             \u001b[1;32mexcept\u001b[0m\u001b[1;33m:\u001b[0m\u001b[1;33m\u001b[0m\u001b[0m\n\u001b[0;32m     91\u001b[0m                 return read_wrapper(\n\u001b[1;32m---> 92\u001b[1;33m                     lambda f: pc.load(f, encoding=encoding, compat=True))\n\u001b[0m\u001b[0;32m     93\u001b[0m     \u001b[1;32mtry\u001b[0m\u001b[1;33m:\u001b[0m\u001b[1;33m\u001b[0m\u001b[0m\n\u001b[0;32m     94\u001b[0m         \u001b[1;32mreturn\u001b[0m \u001b[0mtry_read\u001b[0m\u001b[1;33m(\u001b[0m\u001b[0mpath\u001b[0m\u001b[1;33m)\u001b[0m\u001b[1;33m\u001b[0m\u001b[0m\n",
      "\u001b[1;32mc:\\users\\giedrius\\appdata\\local\\programs\\python\\python35\\lib\\site-packages\\pandas\\io\\pickle.py\u001b[0m in \u001b[0;36mread_wrapper\u001b[1;34m(func)\u001b[0m\n\u001b[0;32m     64\u001b[0m         f, fh = _get_handle(path, 'rb',\n\u001b[0;32m     65\u001b[0m                             \u001b[0mcompression\u001b[0m\u001b[1;33m=\u001b[0m\u001b[0minferred_compression\u001b[0m\u001b[1;33m,\u001b[0m\u001b[1;33m\u001b[0m\u001b[0m\n\u001b[1;32m---> 66\u001b[1;33m                             is_text=False)\n\u001b[0m\u001b[0;32m     67\u001b[0m         \u001b[1;32mtry\u001b[0m\u001b[1;33m:\u001b[0m\u001b[1;33m\u001b[0m\u001b[0m\n\u001b[0;32m     68\u001b[0m             \u001b[1;32mreturn\u001b[0m \u001b[0mfunc\u001b[0m\u001b[1;33m(\u001b[0m\u001b[0mf\u001b[0m\u001b[1;33m)\u001b[0m\u001b[1;33m\u001b[0m\u001b[0m\n",
      "\u001b[1;32mc:\\users\\giedrius\\appdata\\local\\programs\\python\\python35\\lib\\site-packages\\pandas\\io\\common.py\u001b[0m in \u001b[0;36m_get_handle\u001b[1;34m(path_or_buf, mode, encoding, compression, memory_map, is_text)\u001b[0m\n\u001b[0;32m    386\u001b[0m         \u001b[1;32melse\u001b[0m\u001b[1;33m:\u001b[0m\u001b[1;33m\u001b[0m\u001b[0m\n\u001b[0;32m    387\u001b[0m             \u001b[1;31m# Python 3 and binary mode\u001b[0m\u001b[1;33m\u001b[0m\u001b[1;33m\u001b[0m\u001b[0m\n\u001b[1;32m--> 388\u001b[1;33m             \u001b[0mf\u001b[0m \u001b[1;33m=\u001b[0m \u001b[0mopen\u001b[0m\u001b[1;33m(\u001b[0m\u001b[0mpath_or_buf\u001b[0m\u001b[1;33m,\u001b[0m \u001b[0mmode\u001b[0m\u001b[1;33m)\u001b[0m\u001b[1;33m\u001b[0m\u001b[0m\n\u001b[0m\u001b[0;32m    389\u001b[0m         \u001b[0mhandles\u001b[0m\u001b[1;33m.\u001b[0m\u001b[0mappend\u001b[0m\u001b[1;33m(\u001b[0m\u001b[0mf\u001b[0m\u001b[1;33m)\u001b[0m\u001b[1;33m\u001b[0m\u001b[0m\n\u001b[0;32m    390\u001b[0m \u001b[1;33m\u001b[0m\u001b[0m\n",
      "\u001b[1;31mFileNotFoundError\u001b[0m: [Errno 2] No such file or directory: '..\\\\project_data\\\\comments'"
     ]
    }
   ],
   "source": [
    "comments = pd.read_pickle(os.path.join(project_data_path, \"comments\"))"
   ]
  },
  {
   "cell_type": "code",
   "execution_count": 11,
   "metadata": {},
   "outputs": [],
   "source": [
    "dates = comments.index.get_level_values(0)\n",
    "freq = dates.value_counts()\n",
    "freq.index = freq.index.to_period(\"Q\")\n",
    "time_seq =list(freq.groupby(freq.index).sum())"
   ]
  },
  {
   "cell_type": "code",
   "execution_count": 8,
   "metadata": {},
   "outputs": [],
   "source": [
    "#freq.groupby(freq.index).sum()"
   ]
  },
  {
   "cell_type": "code",
   "execution_count": 12,
   "metadata": {},
   "outputs": [],
   "source": [
    "class  DTMcorpus(corpora.textcorpus.TextCorpus):\n",
    "\n",
    "    def get_texts(self):\n",
    "        return self.input\n",
    "\n",
    "    def __len__(self):\n",
    "        return len(self.input)"
   ]
  },
  {
   "cell_type": "code",
   "execution_count": 13,
   "metadata": {},
   "outputs": [
    {
     "data": {
      "text/plain": [
       "40903"
      ]
     },
     "execution_count": 13,
     "metadata": {},
     "output_type": "execute_result"
    }
   ],
   "source": [
    "corpus = DTMcorpus(bigram_tokens)\n",
    "corpus.dictionary.filter_extremes(no_below=15, no_above=0.5)\n",
    "len(corpus.dictionary)"
   ]
  },
  {
   "cell_type": "code",
   "execution_count": 14,
   "metadata": {},
   "outputs": [],
   "source": [
    "del comments, bigram_tokens"
   ]
  },
  {
   "cell_type": "code",
   "execution_count": null,
   "metadata": {},
   "outputs": [],
   "source": [
    "#1000-17min 7s #5000  17min 27s #10000 3h 23min #120000 15:31; 7:47; 12:00 (5.7 GB)\n",
    "#2h pertrauka (6-8) (1+1+1+0.5)"
   ]
  },
  {
   "cell_type": "code",
   "execution_count": 15,
   "metadata": {},
   "outputs": [
    {
     "name": "stdout",
     "output_type": "stream",
     "text": [
      "2019-01-18 10:15:03.690517\n",
      "2019-01-20 22:15:16.781639\n",
      "Wall time: 2d 12h 13s\n"
     ]
    }
   ],
   "source": [
    "%%time\n",
    "print(datetime.datetime.now())\n",
    "model = DtmModel(\"dtm-win64.exe\", corpus, time_seq, num_topics= 40,\n",
    "                 id2word=corpus.dictionary, initialize_lda=True)\n",
    "print(datetime.datetime.now())"
   ]
  },
  {
   "cell_type": "code",
   "execution_count": 16,
   "metadata": {},
   "outputs": [],
   "source": [
    "model.save(os.path.join(project_data_path, 'DTM_40_topics_190101'))"
   ]
  },
  {
   "cell_type": "code",
   "execution_count": null,
   "metadata": {},
   "outputs": [],
   "source": [
    "os.system(\"start C:/Users/Giedrius/Music/1.mp3\")         "
   ]
  },
  {
   "cell_type": "code",
   "execution_count": 75,
   "metadata": {},
   "outputs": [
    {
     "data": {
      "text/plain": [
       "[(0.064465932639137108, 'bitcoin'),\n",
       " (0.020663926285676964, 'price'),\n",
       " (0.012316401312520247, 'time'),\n",
       " (0.011167687655771147, 'think'),\n",
       " (0.010296133986523705, 'buy'),\n",
       " (0.0098456211441272611, 'people'),\n",
       " (0.0089988883393655635, 'coin'),\n",
       " (0.0083147899672369012, 'market'),\n",
       " (0.0074638390244143194, 'money'),\n",
       " (0.0072530754487325306, 'invest')]"
      ]
     },
     "execution_count": 75,
     "metadata": {},
     "output_type": "execute_result"
    }
   ],
   "source": [
    "model.show_topic(topicid=0, time=0, topn=10)"
   ]
  },
  {
   "cell_type": "code",
   "execution_count": 4,
   "metadata": {},
   "outputs": [
    {
     "ename": "NameError",
     "evalue": "name 'os' is not defined",
     "output_type": "error",
     "traceback": [
      "\u001b[1;31m---------------------------------------------------------------------------\u001b[0m",
      "\u001b[1;31mNameError\u001b[0m                                 Traceback (most recent call last)",
      "\u001b[1;32m<ipython-input-4-6bda5b6eb9ee>\u001b[0m in \u001b[0;36m<module>\u001b[1;34m()\u001b[0m\n\u001b[1;32m----> 1\u001b[1;33m \u001b[0mmodel\u001b[0m \u001b[1;33m=\u001b[0m \u001b[0mDtmModel\u001b[0m\u001b[1;33m.\u001b[0m\u001b[0mload\u001b[0m\u001b[1;33m(\u001b[0m\u001b[0mos\u001b[0m\u001b[1;33m.\u001b[0m\u001b[0mpath\u001b[0m\u001b[1;33m.\u001b[0m\u001b[0mjoin\u001b[0m\u001b[1;33m(\u001b[0m\u001b[0mproject_data_path\u001b[0m\u001b[1;33m,\u001b[0m \u001b[1;34m'DTM_30_topics'\u001b[0m\u001b[1;33m)\u001b[0m\u001b[1;33m)\u001b[0m\u001b[1;33m\u001b[0m\u001b[0m\n\u001b[0m",
      "\u001b[1;31mNameError\u001b[0m: name 'os' is not defined"
     ]
    }
   ],
   "source": [
    "model = DtmModel.load(os.path.join(project_data_path, 'DTM_30_topics'))"
   ]
  },
  {
   "cell_type": "code",
   "execution_count": null,
   "metadata": {},
   "outputs": [],
   "source": [
    "freq = df.groupby([\"Date\", \"Topic No.\"])[\"Comment\"].count()\n",
    "freq = freq[6768:-170]\n",
    "freq.to_pickle(os.path.join(project_data_path, 'comm_freq'))"
   ]
  }
 ],
 "metadata": {
  "kernelspec": {
   "display_name": "Python 3",
   "language": "python",
   "name": "python3"
  },
  "language_info": {
   "codemirror_mode": {
    "name": "ipython",
    "version": 3
   },
   "file_extension": ".py",
   "mimetype": "text/x-python",
   "name": "python",
   "nbconvert_exporter": "python",
   "pygments_lexer": "ipython3",
   "version": "3.8.6rc1"
  },
  "varInspector": {
   "cols": {
    "lenName": 16,
    "lenType": 16,
    "lenVar": 40
   },
   "kernels_config": {
    "python": {
     "delete_cmd_postfix": "",
     "delete_cmd_prefix": "del ",
     "library": "var_list.py",
     "varRefreshCmd": "print(var_dic_list())"
    },
    "r": {
     "delete_cmd_postfix": ") ",
     "delete_cmd_prefix": "rm(",
     "library": "var_list.r",
     "varRefreshCmd": "cat(var_dic_list()) "
    }
   },
   "position": {
    "height": "675px",
    "left": "2757.27px",
    "right": "20px",
    "top": "125.994px",
    "width": "352px"
   },
   "types_to_exclude": [
    "module",
    "function",
    "builtin_function_or_method",
    "instance",
    "_Feature"
   ],
   "window_display": true
  }
 },
 "nbformat": 4,
 "nbformat_minor": 2
}
