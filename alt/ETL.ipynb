{
 "cells": [
  {
   "cell_type": "markdown",
   "metadata": {},
   "source": [
    "# Forum comments ETL"
   ]
  },
  {
   "cell_type": "code",
   "execution_count": 1,
   "metadata": {},
   "outputs": [],
   "source": [
    "import json, os, datetime\n",
    "import pandas as pd\n",
    "import numpy as np\n",
    "import matplotlib.pyplot as plt\n",
    "import matplotlib.dates as mdates\n",
    "\n",
    "%matplotlib inline\n",
    "plt.style.use('seaborn-whitegrid')\n",
    "\n",
    "#data folders paths\n",
    "raw_data_path = os.path.join('..', '..', 'Forum', 'data')\n",
    "raw_data_path2 = os.path.join('..', '..', 'Forum', 'data2')\n",
    "raw_data_path3 = os.path.join('..', '..', 'Forum', 'data3')\n",
    "raw_data_path4 = os.path.join('..', '..', 'Forum', 'data4')\n",
    "raw_data_path5 = os.path.join('..', '..', 'Forum', 'data5')\n",
    "raw_data_path6 = os.path.join('..', '..', 'Forum', 'data6') //2019-01-15\n",
    "data_path = os.path.join('..', 'data')\n",
    "topics_path = os.path.join('..', 'topics', 'topic.pickle')"
   ]
  },
  {
   "cell_type": "markdown",
   "metadata": {},
   "source": [
    "### Read raw crawled data files"
   ]
  },
  {
   "cell_type": "code",
   "execution_count": 4,
   "metadata": {},
   "outputs": [],
   "source": [
    "file_names = [os.path.join(raw_data_path6, pos_json) for pos_json in os.listdir(raw_data_path6) if pos_json.endswith('.json')]"
   ]
  },
  {
   "cell_type": "code",
   "execution_count": null,
   "metadata": {},
   "outputs": [],
   "source": [
    "file_names"
   ]
  },
  {
   "cell_type": "code",
   "execution_count": 5,
   "metadata": {},
   "outputs": [
    {
     "name": "stdout",
     "output_type": "stream",
     "text": [
      "Wall time: 888 ms\n"
     ]
    }
   ],
   "source": [
    "%%time \n",
    "\n",
    "forum = list()\n",
    "for i in range(len(file_names)):\n",
    "    with open(file_names[i] ,encoding=\"utf-8\") as json_data:\n",
    "        forum += json.load(json_data)['posts']"
   ]
  },
  {
   "cell_type": "code",
   "execution_count": null,
   "metadata": {},
   "outputs": [],
   "source": [
    "#with open( os.path.join('..', '..','bitcoin.json') ,encoding=\"utf-8\") as json_data:\n",
    "#    forum = json.load(json_data)['posts']"
   ]
  },
  {
   "cell_type": "code",
   "execution_count": 7,
   "metadata": {},
   "outputs": [],
   "source": [
    "def clean_string(text):\n",
    "    return text.replace(u\"\\xad\", '').replace(u\"\\n\", ' ').replace(u\"\\\\\", '').replace(u\"\\t\", ' ').strip()"
   ]
  },
  {
   "cell_type": "code",
   "execution_count": 8,
   "metadata": {},
   "outputs": [
    {
     "name": "stdout",
     "output_type": "stream",
     "text": [
      "Wall time: 2.36 s\n"
     ]
    }
   ],
   "source": [
    "%%time\n",
    "\n",
    "comments = [(datetime.datetime.strptime(rep[\"date\"][:10], '%Y-%m-%d').date(),\n",
    "             clean_string(rep[\"content\"]),\n",
    "             clean_string(dic[\"topic\"]),\n",
    "             clean_string(dic[\"content\"]),\n",
    "            datetime.datetime.strptime(dic[\"date\"][:10], '%Y-%m-%d').date(),\n",
    "            dic[\"views\"])\n",
    "               for dic in forum  if 'replies' in dic \n",
    "               for rep in dic['replies'] if rep[\"content\"] != []]"
   ]
  },
  {
   "cell_type": "code",
   "execution_count": 9,
   "metadata": {},
   "outputs": [
    {
     "name": "stdout",
     "output_type": "stream",
     "text": [
      "Wall time: 109 ms\n"
     ]
    }
   ],
   "source": [
    "%%time\n",
    "df = pd.DataFrame(comments, columns = [\"Date\", \"Comment\", \"Topic\", \"Content\", \"Topic date\", \"Views\"])\n",
    "df = df.sort_values([\"Date\", \"Topic\"])"
   ]
  },
  {
   "cell_type": "code",
   "execution_count": 10,
   "metadata": {},
   "outputs": [
    {
     "data": {
      "text/plain": [
       "77264"
      ]
     },
     "execution_count": 10,
     "metadata": {},
     "output_type": "execute_result"
    }
   ],
   "source": [
    "#first crawl 736224\n",
    "#second crawl 228781\n",
    "#third crawl 312244\n",
    "#bitcoin.json 627122\n",
    "#appended first and bitcoin 1006057\n",
    "#appended first second and bitcoin 1172448\n",
    "#appended all with cleaned data 1094105\n",
    "#data5 117314\n",
    "len(df)"
   ]
  },
  {
   "cell_type": "code",
   "execution_count": 11,
   "metadata": {},
   "outputs": [],
   "source": [
    "if os.path.isfile(topics_path):\n",
    "    topics = pd.read_pickle(topics_path)\n",
    "else:\n",
    "    topics = pd.DataFrame(columns= [\"Topic\", \"Content\", \"Topic date\", \"Views\"])"
   ]
  },
  {
   "cell_type": "code",
   "execution_count": 12,
   "metadata": {},
   "outputs": [
    {
     "name": "stdout",
     "output_type": "stream",
     "text": [
      "Wall time: 3min 54s\n"
     ]
    }
   ],
   "source": [
    "%%time\n",
    "#insert new topics\n",
    "indexes = []\n",
    "i = 0\n",
    "for topic in df[\"Topic\"]:\n",
    "    index = topics[topics[\"Topic\"] == topic].index\n",
    "    if len(index) == 0:\n",
    "        topics = topics.append(df.iloc[[i]][[\"Topic\", \"Content\", \"Topic date\", \"Views\"]], ignore_index= True)\n",
    "        index = len(topics) - 1\n",
    "    else:\n",
    "        index = index[0]\n",
    "    i += 1\n",
    "    indexes.append(index)\n",
    "df[\"Topic No.\"] = indexes\n",
    "topics.to_pickle(topics_path)"
   ]
  },
  {
   "cell_type": "code",
   "execution_count": 13,
   "metadata": {},
   "outputs": [
    {
     "name": "stdout",
     "output_type": "stream",
     "text": [
      "Wall time: 15.3 s\n"
     ]
    }
   ],
   "source": [
    "%%time\n",
    "#write processed data to pickle \n",
    "for date in df[\"Date\"].unique():\n",
    "    df2 = df[df[\"Date\"] == date][[\"Topic No.\", \"Comment\", \"Date\"]]\n",
    "    if os.path.isfile(os.path.join(data_path, str(date))):\n",
    "          df3 = pd.read_pickle(os.path.join(data_path, str(date)))\n",
    "          df2 = pd.concat([df2, df3], ignore_index=True).drop_duplicates()\n",
    "    df2.to_pickle(os.path.join(data_path, str(date)))"
   ]
  },
  {
   "cell_type": "code",
   "execution_count": null,
   "metadata": {},
   "outputs": [],
   "source": [
    "%%time\n",
    "#read pickle files\n",
    "df = pd.DataFrame()\n",
    "for file in os.listdir(data_path):\n",
    "    help_df = pd.read_pickle(os.path.join(data_path, str(file)))\n",
    "    help_df[\"Date\"] = datetime.datetime.strptime(file, '%Y-%m-%d').date()\n",
    "    df = pd.concat([df, help_df], ignore_index=True)"
   ]
  },
  {
   "cell_type": "code",
   "execution_count": null,
   "metadata": {},
   "outputs": [],
   "source": [
    "os.system(\"start C:/Users/Giedrius/Music/1.mp3\") "
   ]
  },
  {
   "cell_type": "code",
   "execution_count": null,
   "metadata": {},
   "outputs": [],
   "source": [
    "for i in range(len(topics)):\n",
    "    index = df[df[\"Topic No.\"] == i].index[0]\n",
    "    df.at[index, \"Comment\"] = topics.at[i,\"Content\"] + df.at[index, \"Comment\"]"
   ]
  },
  {
   "cell_type": "code",
   "execution_count": null,
   "metadata": {},
   "outputs": [],
   "source": [
    "a = df.groupby([\"Date\", \"Topic\", \"Content\"])[\"Comment\"].apply(lambda x: ''.join(x))"
   ]
  },
  {
   "cell_type": "code",
   "execution_count": null,
   "metadata": {},
   "outputs": [],
   "source": [
    "a.index[50000]\n"
   ]
  },
  {
   "cell_type": "code",
   "execution_count": null,
   "metadata": {},
   "outputs": [],
   "source": [
    "df2 = df[[\"Comment\",\"Date\"]].groupby([\"Date\"]).count()"
   ]
  },
  {
   "cell_type": "code",
   "execution_count": null,
   "metadata": {},
   "outputs": [],
   "source": [
    "df2"
   ]
  },
  {
   "cell_type": "code",
   "execution_count": null,
   "metadata": {},
   "outputs": [],
   "source": [
    "df2.plot()"
   ]
  },
  {
   "cell_type": "code",
   "execution_count": null,
   "metadata": {},
   "outputs": [],
   "source": [
    "ax = df2[\"Comment\"][:-1].plot(figsize=(8,6), x = \"Data\")\n",
    "ax.set_xlabel(\"Data\",fontsize=13)\n",
    "ax.set_ylabel(\"Komentarų skaičius\", fontsize=13)\n"
   ]
  },
  {
   "cell_type": "code",
   "execution_count": null,
   "metadata": {},
   "outputs": [],
   "source": [
    "df[-1:]"
   ]
  },
  {
   "cell_type": "code",
   "execution_count": null,
   "metadata": {},
   "outputs": [],
   "source": [
    "df2 = df.groupby([\"Date\"]).count()\n",
    "# Set up the axes and figure\n",
    "fig, ax = plt.subplots(figsize=(20,10))\n",
    "ax.bar(df2.index, df2.Comment, align='center')\n",
    "ax.xaxis_date()\n",
    "fig.autofmt_xdate()\n",
    "plt.show()\n"
   ]
  }
 ],
 "metadata": {
  "kernelspec": {
   "display_name": "Python 3",
   "language": "python",
   "name": "python3"
  },
  "language_info": {
   "codemirror_mode": {
    "name": "ipython",
    "version": 3
   },
   "file_extension": ".py",
   "mimetype": "text/x-python",
   "name": "python",
   "nbconvert_exporter": "python",
   "pygments_lexer": "ipython3",
   "version": "3.8.6rc1"
  },
  "varInspector": {
   "cols": {
    "lenName": 16,
    "lenType": 16,
    "lenVar": 40
   },
   "kernels_config": {
    "python": {
     "delete_cmd_postfix": "",
     "delete_cmd_prefix": "del ",
     "library": "var_list.py",
     "varRefreshCmd": "print(var_dic_list())"
    },
    "r": {
     "delete_cmd_postfix": ") ",
     "delete_cmd_prefix": "rm(",
     "library": "var_list.r",
     "varRefreshCmd": "cat(var_dic_list()) "
    }
   },
   "types_to_exclude": [
    "module",
    "function",
    "builtin_function_or_method",
    "instance",
    "_Feature"
   ],
   "window_display": false
  }
 },
 "nbformat": 4,
 "nbformat_minor": 2
}
