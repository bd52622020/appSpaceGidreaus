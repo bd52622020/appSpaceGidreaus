{
 "cells": [
  {
   "cell_type": "code",
   "execution_count": 44,
   "metadata": {},
   "outputs": [],
   "source": [
    "import pandas as pd\n",
    "import numpy as np\n",
    "import random\n",
    "from datetime import datetime\n",
    "from datetime import timedelta"
   ]
  },
  {
   "cell_type": "markdown",
   "metadata": {},
   "source": [
    "Q3) Write a Pandas program to highlight the negative numbers red and positive numbers black"
   ]
  },
  {
   "cell_type": "code",
   "execution_count": 4,
   "metadata": {},
   "outputs": [
    {
     "data": {
      "text/html": [
       "<style  type=\"text/css\" >\n",
       "    #T_a0dd9484_b157_11ea_a138_e4a7a0e8c731row0_col0 {\n",
       "            color:  black;\n",
       "        }    #T_a0dd9484_b157_11ea_a138_e4a7a0e8c731row0_col1 {\n",
       "            color:  red;\n",
       "        }    #T_a0dd9484_b157_11ea_a138_e4a7a0e8c731row0_col2 {\n",
       "            color:  red;\n",
       "        }    #T_a0dd9484_b157_11ea_a138_e4a7a0e8c731row0_col3 {\n",
       "            color:  red;\n",
       "        }    #T_a0dd9484_b157_11ea_a138_e4a7a0e8c731row1_col0 {\n",
       "            color:  black;\n",
       "        }    #T_a0dd9484_b157_11ea_a138_e4a7a0e8c731row1_col1 {\n",
       "            color:  black;\n",
       "        }    #T_a0dd9484_b157_11ea_a138_e4a7a0e8c731row1_col2 {\n",
       "            color:  black;\n",
       "        }    #T_a0dd9484_b157_11ea_a138_e4a7a0e8c731row1_col3 {\n",
       "            color:  black;\n",
       "        }    #T_a0dd9484_b157_11ea_a138_e4a7a0e8c731row2_col0 {\n",
       "            color:  black;\n",
       "        }    #T_a0dd9484_b157_11ea_a138_e4a7a0e8c731row2_col1 {\n",
       "            color:  red;\n",
       "        }    #T_a0dd9484_b157_11ea_a138_e4a7a0e8c731row2_col2 {\n",
       "            color:  red;\n",
       "        }    #T_a0dd9484_b157_11ea_a138_e4a7a0e8c731row2_col3 {\n",
       "            color:  red;\n",
       "        }    #T_a0dd9484_b157_11ea_a138_e4a7a0e8c731row3_col0 {\n",
       "            color:  black;\n",
       "        }    #T_a0dd9484_b157_11ea_a138_e4a7a0e8c731row3_col1 {\n",
       "            color:  black;\n",
       "        }    #T_a0dd9484_b157_11ea_a138_e4a7a0e8c731row3_col2 {\n",
       "            color:  black;\n",
       "        }    #T_a0dd9484_b157_11ea_a138_e4a7a0e8c731row3_col3 {\n",
       "            color:  black;\n",
       "        }    #T_a0dd9484_b157_11ea_a138_e4a7a0e8c731row4_col0 {\n",
       "            color:  red;\n",
       "        }    #T_a0dd9484_b157_11ea_a138_e4a7a0e8c731row4_col1 {\n",
       "            color:  black;\n",
       "        }    #T_a0dd9484_b157_11ea_a138_e4a7a0e8c731row4_col2 {\n",
       "            color:  black;\n",
       "        }    #T_a0dd9484_b157_11ea_a138_e4a7a0e8c731row4_col3 {\n",
       "            color:  black;\n",
       "        }    #T_a0dd9484_b157_11ea_a138_e4a7a0e8c731row5_col0 {\n",
       "            color:  black;\n",
       "        }    #T_a0dd9484_b157_11ea_a138_e4a7a0e8c731row5_col1 {\n",
       "            color:  black;\n",
       "        }    #T_a0dd9484_b157_11ea_a138_e4a7a0e8c731row5_col2 {\n",
       "            color:  black;\n",
       "        }    #T_a0dd9484_b157_11ea_a138_e4a7a0e8c731row5_col3 {\n",
       "            color:  black;\n",
       "        }    #T_a0dd9484_b157_11ea_a138_e4a7a0e8c731row6_col0 {\n",
       "            color:  red;\n",
       "        }    #T_a0dd9484_b157_11ea_a138_e4a7a0e8c731row6_col1 {\n",
       "            color:  red;\n",
       "        }    #T_a0dd9484_b157_11ea_a138_e4a7a0e8c731row6_col2 {\n",
       "            color:  red;\n",
       "        }    #T_a0dd9484_b157_11ea_a138_e4a7a0e8c731row6_col3 {\n",
       "            color:  black;\n",
       "        }    #T_a0dd9484_b157_11ea_a138_e4a7a0e8c731row7_col0 {\n",
       "            color:  red;\n",
       "        }    #T_a0dd9484_b157_11ea_a138_e4a7a0e8c731row7_col1 {\n",
       "            color:  black;\n",
       "        }    #T_a0dd9484_b157_11ea_a138_e4a7a0e8c731row7_col2 {\n",
       "            color:  red;\n",
       "        }    #T_a0dd9484_b157_11ea_a138_e4a7a0e8c731row7_col3 {\n",
       "            color:  red;\n",
       "        }    #T_a0dd9484_b157_11ea_a138_e4a7a0e8c731row8_col0 {\n",
       "            color:  black;\n",
       "        }    #T_a0dd9484_b157_11ea_a138_e4a7a0e8c731row8_col1 {\n",
       "            color:  black;\n",
       "        }    #T_a0dd9484_b157_11ea_a138_e4a7a0e8c731row8_col2 {\n",
       "            color:  red;\n",
       "        }    #T_a0dd9484_b157_11ea_a138_e4a7a0e8c731row8_col3 {\n",
       "            color:  red;\n",
       "        }    #T_a0dd9484_b157_11ea_a138_e4a7a0e8c731row9_col0 {\n",
       "            color:  red;\n",
       "        }    #T_a0dd9484_b157_11ea_a138_e4a7a0e8c731row9_col1 {\n",
       "            color:  red;\n",
       "        }    #T_a0dd9484_b157_11ea_a138_e4a7a0e8c731row9_col2 {\n",
       "            color:  red;\n",
       "        }    #T_a0dd9484_b157_11ea_a138_e4a7a0e8c731row9_col3 {\n",
       "            color:  black;\n",
       "        }</style><table id=\"T_a0dd9484_b157_11ea_a138_e4a7a0e8c731\" ><thead>    <tr>        <th class=\"blank level0\" ></th>        <th class=\"col_heading level0 col0\" >a</th>        <th class=\"col_heading level0 col1\" >b</th>        <th class=\"col_heading level0 col2\" >c</th>        <th class=\"col_heading level0 col3\" >d</th>    </tr></thead><tbody>\n",
       "                <tr>\n",
       "                        <th id=\"T_a0dd9484_b157_11ea_a138_e4a7a0e8c731level0_row0\" class=\"row_heading level0 row0\" >0</th>\n",
       "                        <td id=\"T_a0dd9484_b157_11ea_a138_e4a7a0e8c731row0_col0\" class=\"data row0 col0\" >2</td>\n",
       "                        <td id=\"T_a0dd9484_b157_11ea_a138_e4a7a0e8c731row0_col1\" class=\"data row0 col1\" >-9</td>\n",
       "                        <td id=\"T_a0dd9484_b157_11ea_a138_e4a7a0e8c731row0_col2\" class=\"data row0 col2\" >-8</td>\n",
       "                        <td id=\"T_a0dd9484_b157_11ea_a138_e4a7a0e8c731row0_col3\" class=\"data row0 col3\" >-6</td>\n",
       "            </tr>\n",
       "            <tr>\n",
       "                        <th id=\"T_a0dd9484_b157_11ea_a138_e4a7a0e8c731level0_row1\" class=\"row_heading level0 row1\" >1</th>\n",
       "                        <td id=\"T_a0dd9484_b157_11ea_a138_e4a7a0e8c731row1_col0\" class=\"data row1 col0\" >4</td>\n",
       "                        <td id=\"T_a0dd9484_b157_11ea_a138_e4a7a0e8c731row1_col1\" class=\"data row1 col1\" >0</td>\n",
       "                        <td id=\"T_a0dd9484_b157_11ea_a138_e4a7a0e8c731row1_col2\" class=\"data row1 col2\" >4</td>\n",
       "                        <td id=\"T_a0dd9484_b157_11ea_a138_e4a7a0e8c731row1_col3\" class=\"data row1 col3\" >5</td>\n",
       "            </tr>\n",
       "            <tr>\n",
       "                        <th id=\"T_a0dd9484_b157_11ea_a138_e4a7a0e8c731level0_row2\" class=\"row_heading level0 row2\" >2</th>\n",
       "                        <td id=\"T_a0dd9484_b157_11ea_a138_e4a7a0e8c731row2_col0\" class=\"data row2 col0\" >7</td>\n",
       "                        <td id=\"T_a0dd9484_b157_11ea_a138_e4a7a0e8c731row2_col1\" class=\"data row2 col1\" >-7</td>\n",
       "                        <td id=\"T_a0dd9484_b157_11ea_a138_e4a7a0e8c731row2_col2\" class=\"data row2 col2\" >-10</td>\n",
       "                        <td id=\"T_a0dd9484_b157_11ea_a138_e4a7a0e8c731row2_col3\" class=\"data row2 col3\" >-8</td>\n",
       "            </tr>\n",
       "            <tr>\n",
       "                        <th id=\"T_a0dd9484_b157_11ea_a138_e4a7a0e8c731level0_row3\" class=\"row_heading level0 row3\" >3</th>\n",
       "                        <td id=\"T_a0dd9484_b157_11ea_a138_e4a7a0e8c731row3_col0\" class=\"data row3 col0\" >0</td>\n",
       "                        <td id=\"T_a0dd9484_b157_11ea_a138_e4a7a0e8c731row3_col1\" class=\"data row3 col1\" >1</td>\n",
       "                        <td id=\"T_a0dd9484_b157_11ea_a138_e4a7a0e8c731row3_col2\" class=\"data row3 col2\" >7</td>\n",
       "                        <td id=\"T_a0dd9484_b157_11ea_a138_e4a7a0e8c731row3_col3\" class=\"data row3 col3\" >9</td>\n",
       "            </tr>\n",
       "            <tr>\n",
       "                        <th id=\"T_a0dd9484_b157_11ea_a138_e4a7a0e8c731level0_row4\" class=\"row_heading level0 row4\" >4</th>\n",
       "                        <td id=\"T_a0dd9484_b157_11ea_a138_e4a7a0e8c731row4_col0\" class=\"data row4 col0\" >-8</td>\n",
       "                        <td id=\"T_a0dd9484_b157_11ea_a138_e4a7a0e8c731row4_col1\" class=\"data row4 col1\" >4</td>\n",
       "                        <td id=\"T_a0dd9484_b157_11ea_a138_e4a7a0e8c731row4_col2\" class=\"data row4 col2\" >8</td>\n",
       "                        <td id=\"T_a0dd9484_b157_11ea_a138_e4a7a0e8c731row4_col3\" class=\"data row4 col3\" >3</td>\n",
       "            </tr>\n",
       "            <tr>\n",
       "                        <th id=\"T_a0dd9484_b157_11ea_a138_e4a7a0e8c731level0_row5\" class=\"row_heading level0 row5\" >5</th>\n",
       "                        <td id=\"T_a0dd9484_b157_11ea_a138_e4a7a0e8c731row5_col0\" class=\"data row5 col0\" >6</td>\n",
       "                        <td id=\"T_a0dd9484_b157_11ea_a138_e4a7a0e8c731row5_col1\" class=\"data row5 col1\" >7</td>\n",
       "                        <td id=\"T_a0dd9484_b157_11ea_a138_e4a7a0e8c731row5_col2\" class=\"data row5 col2\" >6</td>\n",
       "                        <td id=\"T_a0dd9484_b157_11ea_a138_e4a7a0e8c731row5_col3\" class=\"data row5 col3\" >7</td>\n",
       "            </tr>\n",
       "            <tr>\n",
       "                        <th id=\"T_a0dd9484_b157_11ea_a138_e4a7a0e8c731level0_row6\" class=\"row_heading level0 row6\" >6</th>\n",
       "                        <td id=\"T_a0dd9484_b157_11ea_a138_e4a7a0e8c731row6_col0\" class=\"data row6 col0\" >-1</td>\n",
       "                        <td id=\"T_a0dd9484_b157_11ea_a138_e4a7a0e8c731row6_col1\" class=\"data row6 col1\" >-8</td>\n",
       "                        <td id=\"T_a0dd9484_b157_11ea_a138_e4a7a0e8c731row6_col2\" class=\"data row6 col2\" >-4</td>\n",
       "                        <td id=\"T_a0dd9484_b157_11ea_a138_e4a7a0e8c731row6_col3\" class=\"data row6 col3\" >1</td>\n",
       "            </tr>\n",
       "            <tr>\n",
       "                        <th id=\"T_a0dd9484_b157_11ea_a138_e4a7a0e8c731level0_row7\" class=\"row_heading level0 row7\" >7</th>\n",
       "                        <td id=\"T_a0dd9484_b157_11ea_a138_e4a7a0e8c731row7_col0\" class=\"data row7 col0\" >-6</td>\n",
       "                        <td id=\"T_a0dd9484_b157_11ea_a138_e4a7a0e8c731row7_col1\" class=\"data row7 col1\" >3</td>\n",
       "                        <td id=\"T_a0dd9484_b157_11ea_a138_e4a7a0e8c731row7_col2\" class=\"data row7 col2\" >-9</td>\n",
       "                        <td id=\"T_a0dd9484_b157_11ea_a138_e4a7a0e8c731row7_col3\" class=\"data row7 col3\" >-1</td>\n",
       "            </tr>\n",
       "            <tr>\n",
       "                        <th id=\"T_a0dd9484_b157_11ea_a138_e4a7a0e8c731level0_row8\" class=\"row_heading level0 row8\" >8</th>\n",
       "                        <td id=\"T_a0dd9484_b157_11ea_a138_e4a7a0e8c731row8_col0\" class=\"data row8 col0\" >5</td>\n",
       "                        <td id=\"T_a0dd9484_b157_11ea_a138_e4a7a0e8c731row8_col1\" class=\"data row8 col1\" >9</td>\n",
       "                        <td id=\"T_a0dd9484_b157_11ea_a138_e4a7a0e8c731row8_col2\" class=\"data row8 col2\" >-1</td>\n",
       "                        <td id=\"T_a0dd9484_b157_11ea_a138_e4a7a0e8c731row8_col3\" class=\"data row8 col3\" >-2</td>\n",
       "            </tr>\n",
       "            <tr>\n",
       "                        <th id=\"T_a0dd9484_b157_11ea_a138_e4a7a0e8c731level0_row9\" class=\"row_heading level0 row9\" >9</th>\n",
       "                        <td id=\"T_a0dd9484_b157_11ea_a138_e4a7a0e8c731row9_col0\" class=\"data row9 col0\" >-3</td>\n",
       "                        <td id=\"T_a0dd9484_b157_11ea_a138_e4a7a0e8c731row9_col1\" class=\"data row9 col1\" >-2</td>\n",
       "                        <td id=\"T_a0dd9484_b157_11ea_a138_e4a7a0e8c731row9_col2\" class=\"data row9 col2\" >-3</td>\n",
       "                        <td id=\"T_a0dd9484_b157_11ea_a138_e4a7a0e8c731row9_col3\" class=\"data row9 col3\" >8</td>\n",
       "            </tr>\n",
       "    </tbody></table>"
      ],
      "text/plain": [
       "<pandas.io.formats.style.Styler at 0x7f8c1d283630>"
      ]
     },
     "execution_count": 4,
     "metadata": {},
     "output_type": "execute_result"
    }
   ],
   "source": [
    "def _color_red_or_black(val):\n",
    "    color = 'red' if val < 0 else 'black'\n",
    "    return 'color: %s' % color\n",
    "\n",
    "\n",
    "def gen_col():\n",
    "    return random.sample(range(-10, 10), 10)\n",
    "    \n",
    "#if __name__ == '__main__':\n",
    "data = {'a': gen_col(), 'b': gen_col(),'c': gen_col(), 'd': gen_col()}\n",
    "\n",
    "df = pd.DataFrame(data=data)\n",
    "df.style.applymap(_color_red_or_black)"
   ]
  },
  {
   "cell_type": "markdown",
   "metadata": {},
   "source": [
    "Q4) Write a Pandas program to get the current date, oldest date and number of days between Current date and oldest date of Ufo dataset. "
   ]
  },
  {
   "cell_type": "code",
   "execution_count": 14,
   "metadata": {},
   "outputs": [
    {
     "name": "stderr",
     "output_type": "stream",
     "text": [
      "/home/giedrius/.local/lib/python3.6/site-packages/IPython/core/interactiveshell.py:3063: DtypeWarning: Columns (5,9) have mixed types.Specify dtype option on import or set low_memory=False.\n",
      "  interactivity=interactivity, compiler=compiler, result=result)\n"
     ]
    }
   ],
   "source": [
    "df = pd.read_csv('ufo_sighting_data.csv')"
   ]
  },
  {
   "cell_type": "code",
   "execution_count": 50,
   "metadata": {},
   "outputs": [],
   "source": [
    "def get_time(x):\n",
    "    try:\n",
    "         time = datetime.strptime(x, \"%m/%d/%Y %H:%M\")\n",
    "    except ValueError:\n",
    "         x = x.replace(' 24', ' 23')\n",
    "         time = datetime.strptime(x, \"%m/%d/%Y %H:%M\")\n",
    "         time += timedelta(hours=1)\n",
    "    return time"
   ]
  },
  {
   "cell_type": "code",
   "execution_count": 60,
   "metadata": {},
   "outputs": [],
   "source": [
    "df['Date'] = df['Date_time'].apply(lambda x: get_time(x))\n",
    "oldest_day = df[\"Date\"].min()\n",
    "now = datetime.now()"
   ]
  },
  {
   "cell_type": "code",
   "execution_count": 63,
   "metadata": {},
   "outputs": [
    {
     "name": "stdout",
     "output_type": "stream",
     "text": [
      "Current day: 2020-06-18 13:00:24.798898\n",
      "Oldest Ufo day: 1906-11-11 00:00:00\n",
      "Difference of current day and oldest Ufo day: 41493 days 13:00:24.798898\n"
     ]
    }
   ],
   "source": [
    "print(\"Current day:\", now)\n",
    "print(\"Oldest Ufo day:\", oldest_day)\n",
    "print(\"Difference of current day and oldest Ufo day:\", now - oldest_day)"
   ]
  },
  {
   "cell_type": "markdown",
   "metadata": {},
   "source": [
    "Q5) Write a Pandas program to extract year, month, day, hour, minute, second and weekday from unidentified flying object (UFO) reporting date"
   ]
  },
  {
   "cell_type": "code",
   "execution_count": 84,
   "metadata": {},
   "outputs": [],
   "source": [
    "def get_date(ind):\n",
    "    date = df['Report date'][ind]\n",
    "    return date.year, date.month, date.day, date.hour, date.minute, date.second, date.weekday()"
   ]
  },
  {
   "cell_type": "code",
   "execution_count": 89,
   "metadata": {},
   "outputs": [
    {
     "data": {
      "text/plain": [
       "(2004, 4, 27, 0, 0, 0, 1)"
      ]
     },
     "execution_count": 89,
     "metadata": {},
     "output_type": "execute_result"
    }
   ],
   "source": [
    "get_date(0)"
   ]
  },
  {
   "cell_type": "markdown",
   "metadata": {},
   "source": [
    "Q6) Write a Pandas program to check the empty values of UFO (unidentified flying object) Dataframe."
   ]
  },
  {
   "cell_type": "code",
   "execution_count": 68,
   "metadata": {},
   "outputs": [
    {
     "data": {
      "text/plain": [
       "True"
      ]
     },
     "execution_count": 68,
     "metadata": {},
     "output_type": "execute_result"
    }
   ],
   "source": [
    "df.isnull().values.any()"
   ]
  },
  {
   "cell_type": "code",
   "execution_count": 71,
   "metadata": {},
   "outputs": [
    {
     "data": {
      "text/plain": [
       "Date_time                             0\n",
       "city                                  0\n",
       "state/province                     5797\n",
       "country                            9670\n",
       "UFO_shape                          1932\n",
       "length_of_encounter_seconds           0\n",
       "described_duration_of_encounter       0\n",
       "description                          15\n",
       "date_documented                       0\n",
       "latitude                              0\n",
       "longitude                             0\n",
       "Date                                  0\n",
       "Report date                           0\n",
       "dtype: int64"
      ]
     },
     "execution_count": 71,
     "metadata": {},
     "output_type": "execute_result"
    }
   ],
   "source": [
    "df.isnull().sum()"
   ]
  },
  {
   "cell_type": "code",
   "execution_count": 75,
   "metadata": {},
   "outputs": [
    {
     "data": {
      "text/plain": [
       "17414"
      ]
     },
     "execution_count": 75,
     "metadata": {},
     "output_type": "execute_result"
    }
   ],
   "source": [
    "df.isnull().sum().sum()"
   ]
  }
 ],
 "metadata": {
  "kernelspec": {
   "display_name": "Python 2",
   "language": "python",
   "name": "python2"
  },
  "language_info": {
   "codemirror_mode": {
    "name": "ipython",
    "version": 3
   },
   "file_extension": ".py",
   "mimetype": "text/x-python",
   "name": "python",
   "nbconvert_exporter": "python",
   "pygments_lexer": "ipython3",
   "version": "3.6.9"
  }
 },
 "nbformat": 4,
 "nbformat_minor": 2
}
