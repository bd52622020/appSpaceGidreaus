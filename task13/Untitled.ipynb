{
 "cells": [
  {
   "cell_type": "code",
   "execution_count": 19,
   "metadata": {},
   "outputs": [],
   "source": [
    "import pandas as pd\n",
    "import numpy as np"
   ]
  },
  {
   "cell_type": "code",
   "execution_count": 12,
   "metadata": {},
   "outputs": [],
   "source": [
    "characters = pd.read_csv('/home/giedrius/Documents/star-wars/characters.csv')\n",
    "planets = pd.read_csv('/home/giedrius/Documents/star-wars/planets.csv')\n",
    "species = pd.read_csv('/home/giedrius/Documents/star-wars/species.csv')\n",
    "starships = pd.read_csv('/home/giedrius/Documents/star-wars/starships.csv')\n",
    "vehicles = pd.read_csv('/home/giedrius/Documents/star-wars/vehicles.csv') "
   ]
  },
  {
   "cell_type": "code",
   "execution_count": 9,
   "metadata": {},
   "outputs": [
    {
     "name": "stdout",
     "output_type": "stream",
     "text": [
      "There are 87 unique characters\n"
     ]
    }
   ],
   "source": [
    "print \"There are\", len(set(characters[\"name\"])), \"unique characters\""
   ]
  },
  {
   "cell_type": "code",
   "execution_count": 23,
   "metadata": {},
   "outputs": [
    {
     "name": "stdout",
     "output_type": "stream",
     "text": [
      " Planet Coruscant has most population: 1000000000000.0\n"
     ]
    }
   ],
   "source": [
    "ind = np.argmax(planets.population)\n",
    "print \"Planet\", planets[\"name\"][ind], \"has most population:\", planets[\"population\"][ind]"
   ]
  },
  {
   "cell_type": "code",
   "execution_count": 59,
   "metadata": {},
   "outputs": [
    {
     "name": "stdout",
     "output_type": "stream",
     "text": [
      "Unique skin colours\n"
     ]
    },
    {
     "data": {
      "text/plain": [
       "{'',\n",
       " 'asian',\n",
       " 'black',\n",
       " 'blue',\n",
       " 'brown',\n",
       " 'caucasian',\n",
       " 'dark',\n",
       " 'gray',\n",
       " 'green',\n",
       " 'grey',\n",
       " 'hispanic',\n",
       " 'magenta',\n",
       " 'orange',\n",
       " 'pale',\n",
       " 'pale pink',\n",
       " 'peach',\n",
       " 'pink',\n",
       " 'purple',\n",
       " 'red',\n",
       " 'tan',\n",
       " 'white',\n",
       " 'yellow'}"
      ]
     },
     "execution_count": 59,
     "metadata": {},
     "output_type": "execute_result"
    }
   ],
   "source": [
    "print \"Unique skin colours\"\n",
    "cleanedList = [x+\", \" for x in list(species[\"skin_colors\"]) if str(x) != 'nan']\n",
    "colors = \"\".join(cleanedList).split(\",\")\n",
    "skin_colors = set([x.strip() for x in colors if len(x) is not 0])\n",
    "skin_colors "
   ]
  }
 ],
 "metadata": {
  "kernelspec": {
   "display_name": "Python 2",
   "language": "python",
   "name": "python2"
  },
  "language_info": {
   "codemirror_mode": {
    "name": "ipython",
    "version": 2
   },
   "file_extension": ".py",
   "mimetype": "text/x-python",
   "name": "python",
   "nbconvert_exporter": "python",
   "pygments_lexer": "ipython2",
   "version": "2.7.17"
  }
 },
 "nbformat": 4,
 "nbformat_minor": 2
}
